{
  "nbformat": 4,
  "nbformat_minor": 0,
  "metadata": {
    "kernelspec": {
      "display_name": "Python 3",
      "language": "python",
      "name": "python3"
    },
    "language_info": {
      "codemirror_mode": {
        "name": "ipython",
        "version": 3
      },
      "file_extension": ".py",
      "mimetype": "text/x-python",
      "name": "python",
      "nbconvert_exporter": "python",
      "pygments_lexer": "ipython3",
      "version": "3.8.2"
    },
    "colab": {
      "name": "Introduction.ipynb",
      "provenance": [],
      "collapsed_sections": []
    },
    "accelerator": "GPU"
  },
  "cells": [
    {
      "cell_type": "markdown",
      "metadata": {
        "id": "rPmcWeYdPTyl",
        "colab_type": "text"
      },
      "source": [
        "# Anna KaRNNa\n",
        "\n",
        "In this notebook, we'll build a character-wise RNN trained on Anna Karenina, one of my all-time favorite books. It'll be able to generate new text based on the text from the book.\n",
        "\n",
        "This network is based off of Andrej Karpathy's [post on RNNs](http://karpathy.github.io/2015/05/21/rnn-effectiveness/) and [implementation in Torch](https://github.com/karpathy/char-rnn). Also, some information [here at r2rt](http://r2rt.com/recurrent-neural-networks-in-tensorflow-ii.html) and from [Sherjil Ozair](https://github.com/sherjilozair/char-rnn-tensorflow) on GitHub. Below is the general architecture of the character-wise RNN.\n",
        "\n",
        "![](https://drive.google.com/uc?export=view&id=1AailbnHaSRSmr40hGevCgwMJc-lPmrXP)"
      ]
    },
    {
      "cell_type": "code",
      "metadata": {
        "id": "mLjO0qMKPTyn",
        "colab_type": "code",
        "colab": {
          "base_uri": "https://localhost:8080/",
          "height": 50
        },
        "outputId": "3911ead1-df64-4d1b-8e65-325e32299359"
      },
      "source": [
        "%tensorflow_version 1.x\n",
        "import time\n",
        "from collections import namedtuple\n",
        "\n",
        "import numpy as np\n",
        "import tensorflow as tf\n",
        "\n",
        "print(tf.__version__)"
      ],
      "execution_count": 1,
      "outputs": [
        {
          "output_type": "stream",
          "text": [
            "TensorFlow 1.x selected.\n",
            "1.15.2\n"
          ],
          "name": "stdout"
        }
      ]
    },
    {
      "cell_type": "markdown",
      "metadata": {
        "id": "ywZGEJ0UPTyy",
        "colab_type": "text"
      },
      "source": [
        "First we'll load the text file and convert it into integers for our network to use. Here I'm creating a couple dictionaries to convert the characters to and from integers. Encoding the characters as integers makes it easier to use as input in the network."
      ]
    },
    {
      "cell_type": "code",
      "metadata": {
        "id": "4azKV6sJPTyz",
        "colab_type": "code",
        "colab": {}
      },
      "source": [
        "with open('/content/sample_data/anna.txt', 'r') as f:\n",
        "    text=f.read()\n",
        "vocab = sorted(set(text))\n",
        "vocab_to_int = {c: i for i, c in enumerate(vocab)}\n",
        "int_to_vocab = dict(enumerate(vocab))\n",
        "encoded = np.array([vocab_to_int[c] for c in text], dtype=np.int32)"
      ],
      "execution_count": 2,
      "outputs": []
    },
    {
      "cell_type": "markdown",
      "metadata": {
        "id": "khL1lNQDPTy6",
        "colab_type": "text"
      },
      "source": [
        "Let's check out the first 100 characters, make sure everything is peachy. According to the [American Book Review](http://americanbookreview.org/100bestlines.asp), this is the 6th best first line of a book ever."
      ]
    },
    {
      "cell_type": "code",
      "metadata": {
        "id": "178f1ILNPTy8",
        "colab_type": "code",
        "colab": {
          "base_uri": "https://localhost:8080/",
          "height": 35
        },
        "outputId": "c7d03bd0-b228-49d4-c660-5d3a8a2dcde4"
      },
      "source": [
        "text[:100]"
      ],
      "execution_count": 3,
      "outputs": [
        {
          "output_type": "execute_result",
          "data": {
            "application/vnd.google.colaboratory.intrinsic": {
              "type": "string"
            },
            "text/plain": [
              "'Chapter 1\\n\\n\\nHappy families are all alike; every unhappy family is unhappy in its own\\nway.\\n\\nEverythin'"
            ]
          },
          "metadata": {
            "tags": []
          },
          "execution_count": 3
        }
      ]
    },
    {
      "cell_type": "markdown",
      "metadata": {
        "id": "fo-NsINtPTzD",
        "colab_type": "text"
      },
      "source": [
        "And we can see the characters encoded as integers."
      ]
    },
    {
      "cell_type": "code",
      "metadata": {
        "id": "QaeUV2Y6PTzF",
        "colab_type": "code",
        "colab": {
          "base_uri": "https://localhost:8080/",
          "height": 134
        },
        "outputId": "4b2cf47c-feca-4329-9695-aab6e482fc5f"
      },
      "source": [
        "encoded[:100]"
      ],
      "execution_count": 4,
      "outputs": [
        {
          "output_type": "execute_result",
          "data": {
            "text/plain": [
              "array([31, 64, 57, 72, 76, 61, 74,  1, 16,  0,  0,  0, 36, 57, 72, 72, 81,\n",
              "        1, 62, 57, 69, 65, 68, 65, 61, 75,  1, 57, 74, 61,  1, 57, 68, 68,\n",
              "        1, 57, 68, 65, 67, 61, 26,  1, 61, 78, 61, 74, 81,  1, 77, 70, 64,\n",
              "       57, 72, 72, 81,  1, 62, 57, 69, 65, 68, 81,  1, 65, 75,  1, 77, 70,\n",
              "       64, 57, 72, 72, 81,  1, 65, 70,  1, 65, 76, 75,  1, 71, 79, 70,  0,\n",
              "       79, 57, 81, 13,  0,  0, 33, 78, 61, 74, 81, 76, 64, 65, 70],\n",
              "      dtype=int32)"
            ]
          },
          "metadata": {
            "tags": []
          },
          "execution_count": 4
        }
      ]
    },
    {
      "cell_type": "markdown",
      "metadata": {
        "id": "tlyyBEoJPTzL",
        "colab_type": "text"
      },
      "source": [
        "Since the network is working with individual characters, it's similar to a classification problem in which we are trying to predict the next character from the previous text.  Here's how many 'classes' our network has to pick from."
      ]
    },
    {
      "cell_type": "code",
      "metadata": {
        "id": "ycVS8uHCPTzN",
        "colab_type": "code",
        "colab": {
          "base_uri": "https://localhost:8080/",
          "height": 34
        },
        "outputId": "5801c104-c70d-44ba-cbd5-00bc11de86ab"
      },
      "source": [
        "len(vocab)"
      ],
      "execution_count": 5,
      "outputs": [
        {
          "output_type": "execute_result",
          "data": {
            "text/plain": [
              "83"
            ]
          },
          "metadata": {
            "tags": []
          },
          "execution_count": 5
        }
      ]
    },
    {
      "cell_type": "markdown",
      "metadata": {
        "id": "AidYn-5TPTzT",
        "colab_type": "text"
      },
      "source": [
        "## Making training mini-batches\n",
        "\n",
        "Here is where we'll make our mini-batches for training. Remember that we want our batches to be multiple sequences of some desired number of sequence steps. Considering a simple example, our batches would look like this:\n",
        "\n",
        "![](https://drive.google.com/uc?export=view&id=12qEikM5jyjrOMJpbaR2xQtmX2LnlUGCe)\n",
        "\n",
        "<br>\n",
        "\n",
        "We start with our text encoded as integers in one long array in `encoded`. Let's create a function that will give us an iterator for our batches. I like using [generator functions](https://jeffknupp.com/blog/2013/04/07/improve-your-python-yield-and-generators-explained/) to do this. Then we can pass `encoded` into this function and get our batch generator.\n",
        "\n",
        "The first thing we need to do is discard some of the text so we only have completely full batches. Each batch contains $N \\times M$ characters, where $N$ is the batch size (the number of sequences) and $M$ is the number of steps. Then, to get the total number of batches, $K$, we can make from the array `arr`, you divide the length of `arr` by the number of characters per batch. Once you know the number of batches, you can get the total number of characters to keep from `arr`, $N * M * K$.\n",
        "\n",
        "After that, we need to split `arr` into $N$ sequences. You can do this using `arr.reshape(size)` where `size` is a tuple containing the dimensions sizes of the reshaped array. We know we want $N$ sequences (`batch_size` below), let's make that the size of the first dimension. For the second dimension, you can use `-1` as a placeholder in the size, it'll fill up the array with the appropriate data for you. After this, you should have an array that is $N \\times (M * K)$.\n",
        "\n",
        "Now that we have this array, we can iterate through it to get our batches. The idea is each batch is a $N \\times M$ window on the $N \\times (M * K)$ array. For each subsequent batch, the window moves over by `n_steps`. We also want to create both the input and target arrays. Remember that the targets are the inputs shifted over one character. \n",
        "\n",
        "The way I like to do this window is use `range` to take steps of size `n_steps` from $0$ to `arr.shape[1]`, the total number of steps in each sequence. That way, the integers you get from `range` always point to the start of a batch, and each window is `n_steps` wide.\n",
        "\n",
        "> **Exercise:** Write the code for creating batches in the function below. The exercises in this notebook _will not be easy_. I've provided a notebook with solutions alongside this notebook. If you get stuck, checkout the solutions. The most important thing is that you don't copy and paste the code into here, **type out the solution code yourself.**"
      ]
    },
    {
      "cell_type": "code",
      "metadata": {
        "id": "5D_rNVkaPTzT",
        "colab_type": "code",
        "colab": {}
      },
      "source": [
        "def get_batches(arr, batch_size, n_steps):\n",
        "    '''Create a generator that returns batches of size\n",
        "       batch_size x n_steps from arr.\n",
        "       \n",
        "       Arguments\n",
        "       ---------\n",
        "       arr: Array you want to make batches from\n",
        "       batch_size: Batch size, the number of sequences per batch\n",
        "       n_steps: Number of sequence steps per batch\n",
        "    '''\n",
        "    # Get the number of characters per batch and number of batches we can make\n",
        "    characters_per_batch = batch_size*n_steps\n",
        "    n_batches = (int)(len(arr)/characters_per_batch)\n",
        "    \n",
        "    # Keep only enough characters to make full batches\n",
        "    xdata = arr[:n_batches*batch_size*n_steps]\n",
        "    ydata = arr[1:n_batches*batch_size*n_steps+1]\n",
        "    \n",
        "    # Reshape into batch_size rows\n",
        "    xdata = xdata.reshape(batch_size,-1)\n",
        "    ydata = ydata.reshape(batch_size,-1)\n",
        " \n",
        "    for n in range(0, xdata.shape[1], n_steps):\n",
        "        # The features\n",
        "        x = xdata[:,n:n+n_steps]\n",
        "        # The targets, shifted by one\n",
        "        y = ydata[:,n:n+n_steps]\n",
        "        yield x, y"
      ],
      "execution_count": 6,
      "outputs": []
    },
    {
      "cell_type": "markdown",
      "metadata": {
        "id": "fMQRPkQdPTzY",
        "colab_type": "text"
      },
      "source": [
        "Now I'll make my data sets and we can check out what's going on here. Here I'm going to use a batch size of 10 and 50 sequence steps."
      ]
    },
    {
      "cell_type": "code",
      "metadata": {
        "id": "IwXmpxewPTzY",
        "colab_type": "code",
        "colab": {
          "base_uri": "https://localhost:8080/",
          "height": 50
        },
        "outputId": "b0753a77-e0e9-4706-ed7f-cb2256feb910"
      },
      "source": [
        "batches = get_batches(encoded, 10, 50)\n",
        "x, y = next(batches)\n",
        "print(x.shape)\n",
        "print(y.shape)"
      ],
      "execution_count": 7,
      "outputs": [
        {
          "output_type": "stream",
          "text": [
            "(10, 50)\n",
            "(10, 50)\n"
          ],
          "name": "stdout"
        }
      ]
    },
    {
      "cell_type": "code",
      "metadata": {
        "id": "7nDtDAeAPTzc",
        "colab_type": "code",
        "colab": {
          "base_uri": "https://localhost:8080/",
          "height": 403
        },
        "outputId": "e3019b3d-cecf-4687-bf6c-5db4b2cdab13"
      },
      "source": [
        "print('x\\n', x[:10, :10])\n",
        "print('\\ny\\n', y[:10, :10])"
      ],
      "execution_count": 8,
      "outputs": [
        {
          "output_type": "stream",
          "text": [
            "x\n",
            " [[31 64 57 72 76 61 74  1 16  0]\n",
            " [ 1 57 69  1 70 71 76  1 63 71]\n",
            " [78 65 70 13  0  0  3 53 61 75]\n",
            " [70  1 60 77 74 65 70 63  1 64]\n",
            " [ 1 65 76  1 65 75 11  1 75 65]\n",
            " [ 1 37 76  1 79 57 75  0 71 70]\n",
            " [64 61 70  1 59 71 69 61  1 62]\n",
            " [26  1 58 77 76  1 70 71 79  1]\n",
            " [76  1 65 75 70  7 76 13  1 48]\n",
            " [ 1 75 57 65 60  1 76 71  1 64]]\n",
            "\n",
            "y\n",
            " [[64 57 72 76 61 74  1 16  0  0]\n",
            " [57 69  1 70 71 76  1 63 71 65]\n",
            " [65 70 13  0  0  3 53 61 75 11]\n",
            " [ 1 60 77 74 65 70 63  1 64 65]\n",
            " [65 76  1 65 75 11  1 75 65 74]\n",
            " [37 76  1 79 57 75  0 71 70 68]\n",
            " [61 70  1 59 71 69 61  1 62 71]\n",
            " [ 1 58 77 76  1 70 71 79  1 75]\n",
            " [ 1 65 75 70  7 76 13  1 48 64]\n",
            " [75 57 65 60  1 76 71  1 64 61]]\n"
          ],
          "name": "stdout"
        }
      ]
    },
    {
      "cell_type": "markdown",
      "metadata": {
        "id": "ao0C6m6KPTzf",
        "colab_type": "text"
      },
      "source": [
        "If you implemented `get_batches` correctly, the above output should look something like \n",
        "```\n",
        "x\n",
        " [[55 63 69 22  6 76 45  5 16 35]\n",
        " [ 5 69  1  5 12 52  6  5 56 52]\n",
        " [48 29 12 61 35 35  8 64 76 78]\n",
        " [12  5 24 39 45 29 12 56  5 63]\n",
        " [ 5 29  6  5 29 78 28  5 78 29]\n",
        " [ 5 13  6  5 36 69 78 35 52 12]\n",
        " [63 76 12  5 18 52  1 76  5 58]\n",
        " [34  5 73 39  6  5 12 52 36  5]\n",
        " [ 6  5 29 78 12 79  6 61  5 59]\n",
        " [ 5 78 69 29 24  5  6 52  5 63]]\n",
        "\n",
        "y\n",
        " [[63 69 22  6 76 45  5 16 35 35]\n",
        " [69  1  5 12 52  6  5 56 52 29]\n",
        " [29 12 61 35 35  8 64 76 78 28]\n",
        " [ 5 24 39 45 29 12 56  5 63 29]\n",
        " [29  6  5 29 78 28  5 78 29 45]\n",
        " [13  6  5 36 69 78 35 52 12 43]\n",
        " [76 12  5 18 52  1 76  5 58 52]\n",
        " [ 5 73 39  6  5 12 52 36  5 78]\n",
        " [ 5 29 78 12 79  6 61  5 59 63]\n",
        " [78 69 29 24  5  6 52  5 63 76]]\n",
        " ```\n",
        " although the exact numbers will be different. Check to make sure the data is shifted over one step for `y`."
      ]
    },
    {
      "cell_type": "markdown",
      "metadata": {
        "id": "aa-WjNaJPTzf",
        "colab_type": "text"
      },
      "source": [
        "## Building the model\n",
        "\n",
        "Below is where you'll build the network. We'll break it up into parts so it's easier to reason about each bit. Then we can connect them up into the whole network.\n",
        "\n",
        "![](https://drive.google.com/uc?export=view&id=1bSTxv_xTlK4lBQ-PZ-oA8t20AQ9H6oF5)\n",
        "\n",
        "\n",
        "### Inputs\n",
        "\n",
        "First off we'll create our input placeholders. As usual we need placeholders for the training data and the targets. We'll also create a placeholder for dropout layers called `keep_prob`. This will be a scalar, that is a 0-D tensor. To make a scalar, you create a placeholder without giving it a size.\n",
        "\n",
        "> **Exercise:** Create the input placeholders in the function below."
      ]
    },
    {
      "cell_type": "code",
      "metadata": {
        "id": "cFF8kWFLPTzg",
        "colab_type": "code",
        "colab": {}
      },
      "source": [
        "def build_inputs(batch_size, num_steps):\n",
        "    ''' Define placeholders for inputs, targets, and dropout \n",
        "    \n",
        "        Arguments\n",
        "        ---------\n",
        "        batch_size: Batch size, number of sequences per batch\n",
        "        num_steps: Number of sequence steps in a batch\n",
        "        \n",
        "    '''\n",
        "    # Declare placeholders we'll feed into the graph\n",
        "    inputs = tf.placeholder(tf.int32,shape=(batch_size,num_steps),name='input_placeholder')\n",
        "    targets = tf.placeholder(tf.int32,shape=(batch_size,num_steps),name='labels_placeholder')\n",
        "    \n",
        "    # Keep probability placeholder for drop out layers\n",
        "    keep_prob = tf.placeholder(tf.float32,shape=(),name='keep_prob')\n",
        "    \n",
        "    return inputs, targets, keep_prob"
      ],
      "execution_count": 9,
      "outputs": []
    },
    {
      "cell_type": "markdown",
      "metadata": {
        "id": "1jrC28GZPTzi",
        "colab_type": "text"
      },
      "source": [
        "### LSTM Cell\n",
        "\n",
        "Here we will create the LSTM cell we'll use in the hidden layer. We'll use this cell as a building block for the RNN. So we aren't actually defining the RNN here, just the type of cell we'll use in the hidden layer.\n",
        "\n",
        "We first create a basic LSTM cell with\n",
        "\n",
        "```python\n",
        "lstm = tf.contrib.rnn.BasicLSTMCell(num_units)\n",
        "```\n",
        "\n",
        "where `num_units` is the number of units in the hidden layers in the cell. Then we can add dropout by wrapping it with \n",
        "\n",
        "```python\n",
        "tf.contrib.rnn.DropoutWrapper(lstm, output_keep_prob=keep_prob)\n",
        "```\n",
        "You pass in a cell and it will automatically add dropout to the inputs or outputs. Finally, we can stack up the LSTM cells into layers with [`tf.contrib.rnn.MultiRNNCell`](https://www.tensorflow.org/versions/r1.0/api_docs/python/tf/contrib/rnn/MultiRNNCell). With this, you pass in a list of cells and it will send the output of one cell into the next cell. Previously with TensorFlow 1.0, you could do this\n",
        "\n",
        "```python\n",
        "tf.contrib.rnn.MultiRNNCell([cell]*num_layers)\n",
        "```\n",
        "\n",
        "This might look a little weird if you know Python well because this will create a list of the same `cell` object. However, TensorFlow 1.0 will create different weight matrices for all `cell` objects. But, starting with TensorFlow 1.1 you actually need to create new cell objects in the list. To get it to work in TensorFlow 1.1, it should look like\n",
        "\n",
        "```python\n",
        "def build_cell(num_units, keep_prob):\n",
        "    lstm = tf.contrib.rnn.BasicLSTMCell(num_units)\n",
        "    drop = tf.contrib.rnn.DropoutWrapper(lstm, output_keep_prob=keep_prob)\n",
        "    \n",
        "    return drop\n",
        "    \n",
        "tf.contrib.rnn.MultiRNNCell([build_cell(num_units, keep_prob) for _ in range(num_layers)])\n",
        "```\n",
        "\n",
        "Even though this is actually multiple LSTM cells stacked on each other, you can treat the multiple layers as one cell.\n",
        "\n",
        "We also need to create an initial cell state of all zeros. This can be done like so\n",
        "\n",
        "```python\n",
        "initial_state = cell.zero_state(batch_size, tf.float32)\n",
        "```\n",
        "\n",
        "Below, we implement the `build_lstm` function to create these LSTM cells and the initial state."
      ]
    },
    {
      "cell_type": "code",
      "metadata": {
        "id": "YPBb-fsLPTzj",
        "colab_type": "code",
        "colab": {}
      },
      "source": [
        "def build_lstm(lstm_size, num_layers, batch_size, keep_prob):\n",
        "    ''' Build LSTM cell.\n",
        "    \n",
        "        Arguments\n",
        "        ---------\n",
        "        keep_prob: Scalar tensor (tf.placeholder) for the dropout keep probability\n",
        "        lstm_size: Size of the hidden layers in the LSTM cells\n",
        "        num_layers: Number of LSTM layers\n",
        "        batch_size: Batch size\n",
        "\n",
        "    '''\n",
        "    ### Build the LSTM Cell\n",
        "    def build_cell(lstm_size,keep_prob):\n",
        "      # Use a basic LSTM cell\n",
        "      lstm = tf.contrib.rnn.BasicLSTMCell(lstm_size)\n",
        "      # Add dropout to the cell outputs\n",
        "      drop = tf.contrib.rnn.DropoutWrapper(lstm,output_keep_prob=keep_prob)\n",
        "      return drop\n",
        "    \n",
        "    # Stack up multiple LSTM layers, for deep learning\n",
        "    cell = tf.contrib.rnn.MultiRNNCell([build_cell(lstm_size,keep_prob) for _ in range(num_layers)])\n",
        "    initial_state = cell.zero_state(batch_size,tf.float32)\n",
        "    \n",
        "    return cell, initial_state"
      ],
      "execution_count": 10,
      "outputs": []
    },
    {
      "cell_type": "markdown",
      "metadata": {
        "id": "l0o6ftxVPTzm",
        "colab_type": "text"
      },
      "source": [
        "### RNN Output\n",
        "\n",
        "Here we'll create the output layer. We need to connect the output of the RNN cells to a full connected layer with a softmax output. The softmax output gives us a probability distribution we can use to predict the next character, so we want this layer to have size $C$, the number of classes/characters we have in our text.\n",
        "\n",
        "If our input has batch size $N$, number of steps $M$, and the hidden layer has $L$ hidden units, then the output is a 3D tensor with size $N \\times M \\times L$. The output of each LSTM cell has size $L$, we have $M$ of them, one for each sequence step, and we have $N$ sequences. So the total size is $N \\times M \\times L$. \n",
        "\n",
        "We are using the same fully connected layer, the same weights, for each of the outputs. Then, to make things easier, we should reshape the outputs into a 2D tensor with shape $(M * N) \\times L$. That is, one row for each sequence and step, where the values of each row are the output from the LSTM cells. We get the LSTM output as a list, `lstm_output`. First we need to concatenate this whole list into one array with [`tf.concat`](https://www.tensorflow.org/api_docs/python/tf/concat). Then, reshape it (with `tf.reshape`) to size $(M * N) \\times L$.\n",
        "\n",
        "One we have the outputs reshaped, we can do the matrix multiplication with the weights. We need to wrap the weight and bias variables in a variable scope with `tf.variable_scope(scope_name)` because there are weights being created in the LSTM cells. TensorFlow will throw an error if the weights created here have the same names as the weights created in the LSTM cells, which they will be default. To avoid this, we wrap the variables in a variable scope so we can give them unique names.\n",
        "\n",
        "> **Exercise:** Implement the output layer in the function below."
      ]
    },
    {
      "cell_type": "code",
      "metadata": {
        "id": "tO6kWVsYPTzn",
        "colab_type": "code",
        "colab": {}
      },
      "source": [
        "def build_output(lstm_output, in_size, out_size):\n",
        "    ''' Build a softmax layer, return the softmax output and logits.\n",
        "    \n",
        "        Arguments\n",
        "        ---------\n",
        "        \n",
        "        lstm_output: List of output tensors from the LSTM layer\n",
        "        in_size: Size of the input tensor, for example, size of the LSTM cells\n",
        "        out_size: Size of this softmax layer\n",
        "    \n",
        "    '''\n",
        "\n",
        "    # Reshape output so it's a bunch of rows, one row for each step for each sequence.\n",
        "    # Concatenate lstm_output over axis 1 (the columns)\n",
        "    seq_output = tf.concat(lstm_output,axis=1)\n",
        "    batch_size = tf.shape(seq_output)[0]\n",
        "    num_steps = tf.shape(seq_output)[1]\n",
        "\n",
        "    # Reshape seq_output to a 2D tensor with lstm_size columns\n",
        "    x = tf.reshape(seq_output,[-1,in_size])\n",
        "    \n",
        "    # Connect the RNN outputs to a softmax layer\n",
        "    with tf.variable_scope('softmax'):\n",
        "        # Create the weight and bias variables here\n",
        "        softmax_w = tf.get_variable('W',[in_size,out_size])\n",
        "        softmax_b = tf.get_variable('b',[out_size])\n",
        "    \n",
        "    # Since output is a bunch of rows of RNN cell outputs, logits will be a bunch\n",
        "    # of rows of logit outputs, one for each step and sequence\n",
        "    logits = tf.matmul(x,softmax_w)+softmax_b\n",
        "    logits = tf.reshape(logits,[batch_size,num_steps,out_size])\n",
        "    \n",
        "    # Use softmax to get the probabilities for predicted characters\n",
        "    out = tf.nn.softmax(logits)\n",
        "    \n",
        "    return out, logits"
      ],
      "execution_count": 11,
      "outputs": []
    },
    {
      "cell_type": "markdown",
      "metadata": {
        "id": "Tvd7HIjBPTzq",
        "colab_type": "text"
      },
      "source": [
        "### Training loss\n",
        "\n",
        "Next up is the training loss. We get the logits and targets and calculate the softmax cross-entropy loss. First we need to one-hot encode the targets, we're getting them as encoded characters. Then, reshape the one-hot targets so it's a 2D tensor with size $(M*N) \\times C$ where $C$ is the number of classes/characters we have. Remember that we reshaped the LSTM outputs and ran them through a fully connected layer with $C$ units. So our logits will also have size $(M*N) \\times C$.\n",
        "\n",
        "Then we run the logits and targets through `tf.nn.softmax_cross_entropy_with_logits` and find the mean to get the loss.\n",
        "\n",
        ">**Exercise:** Implement the loss calculation in the function below."
      ]
    },
    {
      "cell_type": "code",
      "metadata": {
        "id": "YGQdD_wUPTzq",
        "colab_type": "code",
        "colab": {}
      },
      "source": [
        "def build_loss(logits, targets, lstm_size, num_classes):\n",
        "    ''' Calculate the loss from the logits and the targets.\n",
        "    \n",
        "        Arguments\n",
        "        ---------\n",
        "        logits: Logits from final fully connected layer\n",
        "        targets: Targets for supervised learning\n",
        "        lstm_size: Number of LSTM hidden units\n",
        "        num_classes: Number of classes in targets\n",
        "        \n",
        "    '''\n",
        "    \n",
        "    # One-hot encode targets and reshape to match logits, one row per sequence per step\n",
        "    y_one_hot = tf.one_hot(targets,num_classes)\n",
        "    \n",
        "    # Softmax cross entropy loss\n",
        "    loss = tf.reduce_mean(tf.nn.softmax_cross_entropy_with_logits(labels=y_one_hot,logits=logits))\n",
        "    \n",
        "    return loss"
      ],
      "execution_count": 12,
      "outputs": []
    },
    {
      "cell_type": "markdown",
      "metadata": {
        "id": "kGlPS7QUPTzs",
        "colab_type": "text"
      },
      "source": [
        "### Optimizer\n",
        "\n",
        "Here we build the optimizer. Normal RNNs have have issues gradients exploding and disappearing. LSTMs fix the disappearance problem, but the gradients can still grow without bound. To fix this, we can clip the gradients above some threshold. That is, if a gradient is larger than that threshold, we set it to the threshold. This will ensure the gradients never grow overly large. Then we use an AdamOptimizer for the learning step."
      ]
    },
    {
      "cell_type": "code",
      "metadata": {
        "id": "Sbcbt1Y3PTzt",
        "colab_type": "code",
        "colab": {}
      },
      "source": [
        "def build_optimizer(loss, learning_rate, grad_clip):\n",
        "    ''' Build optmizer for training, using gradient clipping.\n",
        "    \n",
        "        Arguments:\n",
        "        loss: Network loss\n",
        "        learning_rate: Learning rate for optimizer\n",
        "    \n",
        "    '''\n",
        "    \n",
        "    # Optimizer for training, using gradient clipping to control exploding gradients\n",
        "    tvars = tf.trainable_variables()\n",
        "    grads, _ = tf.clip_by_global_norm(tf.gradients(loss, tvars), grad_clip)\n",
        "    train_op = tf.train.AdamOptimizer(learning_rate)\n",
        "    optimizer = train_op.apply_gradients(zip(grads, tvars))\n",
        "    \n",
        "    return optimizer"
      ],
      "execution_count": 13,
      "outputs": []
    },
    {
      "cell_type": "markdown",
      "metadata": {
        "id": "M8P9JZ85PTzw",
        "colab_type": "text"
      },
      "source": [
        "### Build the network\n",
        "\n",
        "Now we can put all the pieces together and build a class for the network. To actually run data through the LSTM cells, we will use [`tf.nn.dynamic_rnn`](https://www.tensorflow.org/versions/r1.0/api_docs/python/tf/nn/dynamic_rnn). This function will pass the hidden and cell states across LSTM cells appropriately for us. It returns the outputs for each LSTM cell at each step for each sequence in the mini-batch. It also gives us the final LSTM state. We want to save this state as `final_state` so we can pass it to the first LSTM cell in the the next mini-batch run. For `tf.nn.dynamic_rnn`, we pass in the cell and initial state we get from `build_lstm`, as well as our input sequences. Also, we need to one-hot encode the inputs before going into the RNN. \n",
        "\n",
        "> **Exercise:** Use the functions you've implemented previously and `tf.nn.dynamic_rnn` to build the network."
      ]
    },
    {
      "cell_type": "code",
      "metadata": {
        "id": "xS7pZqlNPTzw",
        "colab_type": "code",
        "colab": {}
      },
      "source": [
        "class CharRNN:\n",
        "    \n",
        "    def __init__(self, num_classes, batch_size=64, num_steps=50, \n",
        "                       lstm_size=128, num_layers=2, learning_rate=0.001, \n",
        "                       grad_clip=5, sampling=False):\n",
        "    \n",
        "        # When we're using this network for sampling later, we'll be passing in\n",
        "        # one character at a time, so providing an option for that\n",
        "        if sampling == True:\n",
        "            batch_size, num_steps = 1, 1\n",
        "        else:\n",
        "            batch_size, num_steps = batch_size, num_steps\n",
        "\n",
        "        tf.reset_default_graph()\n",
        "        \n",
        "        # Build the input placeholder tensors\n",
        "        self.inputs, self.targets, self.keep_prob = build_inputs(batch_size, num_steps)\n",
        "\n",
        "        # Build the LSTM cell\n",
        "        cell, self.initial_state = build_lstm(lstm_size, num_layers, batch_size, self.keep_prob)\n",
        "\n",
        "        ### Run the data through the RNN layers\n",
        "        # First, one-hot encode the input tokens\n",
        "        x_one_hot = tf.one_hot(self.inputs,num_classes)\n",
        "        \n",
        "        # Run each sequence step through the RNN with tf.nn.dynamic_rnn \n",
        "        outputs, state = tf.nn.dynamic_rnn(cell=cell,inputs=x_one_hot,initial_state=self.initial_state)\n",
        "        self.final_state = state\n",
        "        \n",
        "        # Get softmax predictions and logits\n",
        "        self.prediction, self.logits = build_output(outputs, lstm_size, num_classes)\n",
        "        \n",
        "        # Loss and optimizer (with gradient clipping)\n",
        "        self.loss =  build_loss(self.logits, self.targets, lstm_size, num_classes)\n",
        "        self.optimizer = build_optimizer(self.loss, learning_rate, grad_clip)"
      ],
      "execution_count": 14,
      "outputs": []
    },
    {
      "cell_type": "markdown",
      "metadata": {
        "id": "hT2rP5AhPTzy",
        "colab_type": "text"
      },
      "source": [
        "## Hyperparameters\n",
        "\n",
        "Here are the hyperparameters for the network.\n",
        "\n",
        "* `batch_size` - Number of sequences running through the network in one pass.\n",
        "* `num_steps` - Number of characters in the sequence the network is trained on. Larger is better typically, the network will learn more long range dependencies. But it takes longer to train. 100 is typically a good number here.\n",
        "* `lstm_size` - The number of units in the hidden layers.\n",
        "* `num_layers` - Number of hidden LSTM layers to use\n",
        "* `learning_rate` - Learning rate for training\n",
        "* `keep_prob` - The dropout keep probability when training. If you're network is overfitting, try decreasing this.\n",
        "\n",
        "Here's some good advice from Andrej Karpathy on training the network. I'm going to copy it in here for your benefit, but also link to [where it originally came from](https://github.com/karpathy/char-rnn#tips-and-tricks).\n",
        "\n",
        "> ## Tips and Tricks\n",
        "\n",
        ">### Monitoring Validation Loss vs. Training Loss\n",
        ">If you're somewhat new to Machine Learning or Neural Networks it can take a bit of expertise to get good models. The most important quantity to keep track of is the difference between your training loss (printed during training) and the validation loss (printed once in a while when the RNN is run on the validation data (by default every 1000 iterations)). In particular:\n",
        "\n",
        "> - If your training loss is much lower than validation loss then this means the network might be **overfitting**. Solutions to this are to decrease your network size, or to increase dropout. For example you could try dropout of 0.5 and so on.\n",
        "> - If your training/validation loss are about equal then your model is **underfitting**. Increase the size of your model (either number of layers or the raw number of neurons per layer)\n",
        "\n",
        "> ### Approximate number of parameters\n",
        "\n",
        "> The two most important parameters that control the model are `lstm_size` and `num_layers`. I would advise that you always use `num_layers` of either 2/3. The `lstm_size` can be adjusted based on how much data you have. The two important quantities to keep track of here are:\n",
        "\n",
        "> - The number of parameters in your model. This is printed when you start training.\n",
        "> - The size of your dataset. 1MB file is approximately 1 million characters.\n",
        "\n",
        ">These two should be about the same order of magnitude. It's a little tricky to tell. Here are some examples:\n",
        "\n",
        "> - I have a 100MB dataset and I'm using the default parameter settings (which currently print 150K parameters). My data size is significantly larger (100 mil >> 0.15 mil), so I expect to heavily underfit. I am thinking I can comfortably afford to make `lstm_size` larger.\n",
        "> - I have a 10MB dataset and running a 10 million parameter model. I'm slightly nervous and I'm carefully monitoring my validation loss. If it's larger than my training loss then I may want to try to increase dropout a bit and see if that helps the validation loss.\n",
        "\n",
        "> ### Best models strategy\n",
        "\n",
        ">The winning strategy to obtaining very good models (if you have the compute time) is to always err on making the network larger (as large as you're willing to wait for it to compute) and then try different dropout values (between 0,1). Whatever model has the best validation performance (the loss, written in the checkpoint filename, low is good) is the one you should use in the end.\n",
        "\n",
        ">It is very common in deep learning to run many different models with many different hyperparameter settings, and in the end take whatever checkpoint gave the best validation performance.\n",
        "\n",
        ">By the way, the size of your training and validation splits are also parameters. Make sure you have a decent amount of data in your validation set or otherwise the validation performance will be noisy and not very informative."
      ]
    },
    {
      "cell_type": "code",
      "metadata": {
        "id": "0j9Xz9g8PTzz",
        "colab_type": "code",
        "colab": {}
      },
      "source": [
        "batch_size = 10         # Sequences per batch\n",
        "num_steps = 50          # Number of sequence steps per batch\n",
        "lstm_size = 128         # Size of hidden layers in LSTMs\n",
        "num_layers = 2          # Number of LSTM layers\n",
        "learning_rate = 0.01    # Learning rate\n",
        "keep_prob = 0.5         # Dropout keep probability"
      ],
      "execution_count": 15,
      "outputs": []
    },
    {
      "cell_type": "markdown",
      "metadata": {
        "id": "zgPk0QSoPTz2",
        "colab_type": "text"
      },
      "source": [
        "## Time for training\n",
        "\n",
        "This is typical training code, passing inputs and targets into the network, then running the optimizer. Here we also get back the final LSTM state for the mini-batch. Then, we pass that state back into the network so the next batch can continue the state from the previous batch. And every so often (set by `save_every_n`) I save a checkpoint.\n",
        "\n",
        "Here I'm saving checkpoints with the format\n",
        "\n",
        "`i{iteration number}_l{# hidden layer units}.ckpt`\n",
        "\n",
        "> **Exercise:** Set the hyperparameters above to train the network. Watch the training loss, it should be consistently dropping. Also, I highly advise running this on a GPU."
      ]
    },
    {
      "cell_type": "code",
      "metadata": {
        "scrolled": true,
        "id": "Qza1MhELPTz2",
        "colab_type": "code",
        "colab": {
          "base_uri": "https://localhost:8080/",
          "height": 742
        },
        "outputId": "fd81eb57-fed0-4ff3-c7f6-b7f67cfad8e2"
      },
      "source": [
        "epochs = 20\n",
        "# Print losses every N interations\n",
        "print_every_n = 2000\n",
        "\n",
        "# Save every N iterations\n",
        "save_every_n = 200\n",
        "\n",
        "model = CharRNN(len(vocab), batch_size=batch_size, num_steps=num_steps,\n",
        "                lstm_size=lstm_size, num_layers=num_layers, \n",
        "                learning_rate=learning_rate)\n",
        "\n",
        "saver = tf.train.Saver(max_to_keep=100)\n",
        "with tf.Session() as sess:\n",
        "    sess.run(tf.global_variables_initializer())\n",
        "    \n",
        "    # Use the line below to load a checkpoint and resume training\n",
        "    #saver.restore(sess, 'checkpoints/______.ckpt')\n",
        "    counter = 0\n",
        "    for e in range(epochs):\n",
        "        # Train network\n",
        "        new_state = sess.run(model.initial_state)\n",
        "        loss = 0\n",
        "        for x, y in get_batches(encoded, batch_size, num_steps):\n",
        "            counter += 1\n",
        "            start = time.time()\n",
        "            feed = {model.inputs: x,\n",
        "                    model.targets: y,\n",
        "                    model.keep_prob: keep_prob,\n",
        "                    model.initial_state: new_state}\n",
        "            batch_loss, new_state, _ = sess.run([model.loss, \n",
        "                                                 model.final_state, \n",
        "                                                 model.optimizer], \n",
        "                                                 feed_dict=feed)\n",
        "            if (counter % print_every_n == 0):\n",
        "                end = time.time()\n",
        "                print('Epoch: {}/{}... '.format(e+1, epochs),\n",
        "                      'Training Step: {}... '.format(counter),\n",
        "                      'Training loss: {:.4f}... '.format(batch_loss),\n",
        "                      '{:.4f} sec/batch'.format((end-start)))\n",
        "        \n",
        "            if (counter % save_every_n == 0):\n",
        "                saver.save(sess, \"checkpoints/i{}_l{}.ckpt\".format(counter, lstm_size))\n",
        "    \n",
        "    saver.save(sess, \"checkpoints/i{}_l{}.ckpt\".format(counter, lstm_size))"
      ],
      "execution_count": 17,
      "outputs": [
        {
          "output_type": "stream",
          "text": [
            "Epoch: 1/20...  Training Step: 2000...  Training loss: 1.8172...  0.1060 sec/batch\n",
            "Epoch: 2/20...  Training Step: 4000...  Training loss: 1.7186...  0.0937 sec/batch\n",
            "Epoch: 2/20...  Training Step: 6000...  Training loss: 1.6163...  0.0903 sec/batch\n",
            "Epoch: 3/20...  Training Step: 8000...  Training loss: 1.6608...  0.0852 sec/batch\n",
            "Epoch: 3/20...  Training Step: 10000...  Training loss: 1.5865...  0.0930 sec/batch\n",
            "Epoch: 4/20...  Training Step: 12000...  Training loss: 1.6034...  0.0886 sec/batch\n",
            "Epoch: 4/20...  Training Step: 14000...  Training loss: 1.6090...  0.0847 sec/batch\n",
            "Epoch: 5/20...  Training Step: 16000...  Training loss: 1.5735...  0.0829 sec/batch\n",
            "Epoch: 5/20...  Training Step: 18000...  Training loss: 1.3895...  0.0868 sec/batch\n",
            "Epoch: 6/20...  Training Step: 20000...  Training loss: 1.4187...  0.0858 sec/batch\n",
            "WARNING:tensorflow:From /tensorflow-1.15.2/python3.6/tensorflow_core/python/training/saver.py:963: remove_checkpoint (from tensorflow.python.training.checkpoint_management) is deprecated and will be removed in a future version.\n",
            "Instructions for updating:\n",
            "Use standard file APIs to delete files with this prefix.\n",
            "Epoch: 6/20...  Training Step: 22000...  Training loss: 1.5651...  0.0862 sec/batch\n",
            "Epoch: 7/20...  Training Step: 24000...  Training loss: 1.4750...  0.0931 sec/batch\n",
            "Epoch: 7/20...  Training Step: 26000...  Training loss: 1.5524...  0.0869 sec/batch\n",
            "Epoch: 8/20...  Training Step: 28000...  Training loss: 1.5514...  0.0853 sec/batch\n",
            "Epoch: 8/20...  Training Step: 30000...  Training loss: 1.6279...  0.0851 sec/batch\n",
            "Epoch: 9/20...  Training Step: 32000...  Training loss: 1.6286...  0.0841 sec/batch\n",
            "Epoch: 9/20...  Training Step: 34000...  Training loss: 1.7053...  0.0882 sec/batch\n",
            "Epoch: 10/20...  Training Step: 36000...  Training loss: 1.5798...  0.0836 sec/batch\n",
            "Epoch: 10/20...  Training Step: 38000...  Training loss: 1.4368...  0.0860 sec/batch\n",
            "Epoch: 11/20...  Training Step: 40000...  Training loss: 1.4066...  0.0822 sec/batch\n",
            "Epoch: 11/20...  Training Step: 42000...  Training loss: 1.3977...  0.0847 sec/batch\n",
            "Epoch: 12/20...  Training Step: 44000...  Training loss: 1.5322...  0.0970 sec/batch\n",
            "Epoch: 12/20...  Training Step: 46000...  Training loss: 1.4820...  0.0847 sec/batch\n",
            "Epoch: 13/20...  Training Step: 48000...  Training loss: 1.6615...  0.0862 sec/batch\n",
            "Epoch: 13/20...  Training Step: 50000...  Training loss: 1.6539...  0.0854 sec/batch\n",
            "Epoch: 14/20...  Training Step: 52000...  Training loss: 1.5118...  0.0903 sec/batch\n",
            "Epoch: 14/20...  Training Step: 54000...  Training loss: 1.5459...  0.0821 sec/batch\n",
            "Epoch: 15/20...  Training Step: 56000...  Training loss: 1.6623...  0.0987 sec/batch\n",
            "Epoch: 15/20...  Training Step: 58000...  Training loss: 1.6092...  0.0880 sec/batch\n",
            "Epoch: 16/20...  Training Step: 60000...  Training loss: 1.5689...  0.0926 sec/batch\n",
            "Epoch: 16/20...  Training Step: 62000...  Training loss: 1.5534...  0.0883 sec/batch\n",
            "Epoch: 17/20...  Training Step: 64000...  Training loss: 1.6069...  0.0873 sec/batch\n",
            "Epoch: 17/20...  Training Step: 66000...  Training loss: 1.5238...  0.0869 sec/batch\n",
            "Epoch: 18/20...  Training Step: 68000...  Training loss: 1.6038...  0.0807 sec/batch\n",
            "Epoch: 18/20...  Training Step: 70000...  Training loss: 1.5449...  0.0846 sec/batch\n",
            "Epoch: 19/20...  Training Step: 72000...  Training loss: 1.3156...  0.0867 sec/batch\n",
            "Epoch: 19/20...  Training Step: 74000...  Training loss: 1.5919...  0.0853 sec/batch\n",
            "Epoch: 20/20...  Training Step: 76000...  Training loss: 1.4987...  0.0850 sec/batch\n",
            "Epoch: 20/20...  Training Step: 78000...  Training loss: 1.3812...  0.0845 sec/batch\n"
          ],
          "name": "stdout"
        }
      ]
    },
    {
      "cell_type": "markdown",
      "metadata": {
        "id": "wsn8NBwpPTz6",
        "colab_type": "text"
      },
      "source": [
        "#### Saved checkpoints\n",
        "\n",
        "Read up on saving and loading checkpoints here: https://www.tensorflow.org/programmers_guide/variables"
      ]
    },
    {
      "cell_type": "code",
      "metadata": {
        "id": "QFkKRfaQPTz6",
        "colab_type": "code",
        "colab": {
          "base_uri": "https://localhost:8080/",
          "height": 1000
        },
        "outputId": "2096d25a-f385-4e3f-bd93-9579edc0dd3f"
      },
      "source": [
        "tf.train.get_checkpoint_state('checkpoints')"
      ],
      "execution_count": 18,
      "outputs": [
        {
          "output_type": "execute_result",
          "data": {
            "text/plain": [
              "model_checkpoint_path: \"checkpoints/i79400_l128.ckpt\"\n",
              "all_model_checkpoint_paths: \"checkpoints/i59600_l128.ckpt\"\n",
              "all_model_checkpoint_paths: \"checkpoints/i59800_l128.ckpt\"\n",
              "all_model_checkpoint_paths: \"checkpoints/i60000_l128.ckpt\"\n",
              "all_model_checkpoint_paths: \"checkpoints/i60200_l128.ckpt\"\n",
              "all_model_checkpoint_paths: \"checkpoints/i60400_l128.ckpt\"\n",
              "all_model_checkpoint_paths: \"checkpoints/i60600_l128.ckpt\"\n",
              "all_model_checkpoint_paths: \"checkpoints/i60800_l128.ckpt\"\n",
              "all_model_checkpoint_paths: \"checkpoints/i61000_l128.ckpt\"\n",
              "all_model_checkpoint_paths: \"checkpoints/i61200_l128.ckpt\"\n",
              "all_model_checkpoint_paths: \"checkpoints/i61400_l128.ckpt\"\n",
              "all_model_checkpoint_paths: \"checkpoints/i61600_l128.ckpt\"\n",
              "all_model_checkpoint_paths: \"checkpoints/i61800_l128.ckpt\"\n",
              "all_model_checkpoint_paths: \"checkpoints/i62000_l128.ckpt\"\n",
              "all_model_checkpoint_paths: \"checkpoints/i62200_l128.ckpt\"\n",
              "all_model_checkpoint_paths: \"checkpoints/i62400_l128.ckpt\"\n",
              "all_model_checkpoint_paths: \"checkpoints/i62600_l128.ckpt\"\n",
              "all_model_checkpoint_paths: \"checkpoints/i62800_l128.ckpt\"\n",
              "all_model_checkpoint_paths: \"checkpoints/i63000_l128.ckpt\"\n",
              "all_model_checkpoint_paths: \"checkpoints/i63200_l128.ckpt\"\n",
              "all_model_checkpoint_paths: \"checkpoints/i63400_l128.ckpt\"\n",
              "all_model_checkpoint_paths: \"checkpoints/i63600_l128.ckpt\"\n",
              "all_model_checkpoint_paths: \"checkpoints/i63800_l128.ckpt\"\n",
              "all_model_checkpoint_paths: \"checkpoints/i64000_l128.ckpt\"\n",
              "all_model_checkpoint_paths: \"checkpoints/i64200_l128.ckpt\"\n",
              "all_model_checkpoint_paths: \"checkpoints/i64400_l128.ckpt\"\n",
              "all_model_checkpoint_paths: \"checkpoints/i64600_l128.ckpt\"\n",
              "all_model_checkpoint_paths: \"checkpoints/i64800_l128.ckpt\"\n",
              "all_model_checkpoint_paths: \"checkpoints/i65000_l128.ckpt\"\n",
              "all_model_checkpoint_paths: \"checkpoints/i65200_l128.ckpt\"\n",
              "all_model_checkpoint_paths: \"checkpoints/i65400_l128.ckpt\"\n",
              "all_model_checkpoint_paths: \"checkpoints/i65600_l128.ckpt\"\n",
              "all_model_checkpoint_paths: \"checkpoints/i65800_l128.ckpt\"\n",
              "all_model_checkpoint_paths: \"checkpoints/i66000_l128.ckpt\"\n",
              "all_model_checkpoint_paths: \"checkpoints/i66200_l128.ckpt\"\n",
              "all_model_checkpoint_paths: \"checkpoints/i66400_l128.ckpt\"\n",
              "all_model_checkpoint_paths: \"checkpoints/i66600_l128.ckpt\"\n",
              "all_model_checkpoint_paths: \"checkpoints/i66800_l128.ckpt\"\n",
              "all_model_checkpoint_paths: \"checkpoints/i67000_l128.ckpt\"\n",
              "all_model_checkpoint_paths: \"checkpoints/i67200_l128.ckpt\"\n",
              "all_model_checkpoint_paths: \"checkpoints/i67400_l128.ckpt\"\n",
              "all_model_checkpoint_paths: \"checkpoints/i67600_l128.ckpt\"\n",
              "all_model_checkpoint_paths: \"checkpoints/i67800_l128.ckpt\"\n",
              "all_model_checkpoint_paths: \"checkpoints/i68000_l128.ckpt\"\n",
              "all_model_checkpoint_paths: \"checkpoints/i68200_l128.ckpt\"\n",
              "all_model_checkpoint_paths: \"checkpoints/i68400_l128.ckpt\"\n",
              "all_model_checkpoint_paths: \"checkpoints/i68600_l128.ckpt\"\n",
              "all_model_checkpoint_paths: \"checkpoints/i68800_l128.ckpt\"\n",
              "all_model_checkpoint_paths: \"checkpoints/i69000_l128.ckpt\"\n",
              "all_model_checkpoint_paths: \"checkpoints/i69200_l128.ckpt\"\n",
              "all_model_checkpoint_paths: \"checkpoints/i69400_l128.ckpt\"\n",
              "all_model_checkpoint_paths: \"checkpoints/i69600_l128.ckpt\"\n",
              "all_model_checkpoint_paths: \"checkpoints/i69800_l128.ckpt\"\n",
              "all_model_checkpoint_paths: \"checkpoints/i70000_l128.ckpt\"\n",
              "all_model_checkpoint_paths: \"checkpoints/i70200_l128.ckpt\"\n",
              "all_model_checkpoint_paths: \"checkpoints/i70400_l128.ckpt\"\n",
              "all_model_checkpoint_paths: \"checkpoints/i70600_l128.ckpt\"\n",
              "all_model_checkpoint_paths: \"checkpoints/i70800_l128.ckpt\"\n",
              "all_model_checkpoint_paths: \"checkpoints/i71000_l128.ckpt\"\n",
              "all_model_checkpoint_paths: \"checkpoints/i71200_l128.ckpt\"\n",
              "all_model_checkpoint_paths: \"checkpoints/i71400_l128.ckpt\"\n",
              "all_model_checkpoint_paths: \"checkpoints/i71600_l128.ckpt\"\n",
              "all_model_checkpoint_paths: \"checkpoints/i71800_l128.ckpt\"\n",
              "all_model_checkpoint_paths: \"checkpoints/i72000_l128.ckpt\"\n",
              "all_model_checkpoint_paths: \"checkpoints/i72200_l128.ckpt\"\n",
              "all_model_checkpoint_paths: \"checkpoints/i72400_l128.ckpt\"\n",
              "all_model_checkpoint_paths: \"checkpoints/i72600_l128.ckpt\"\n",
              "all_model_checkpoint_paths: \"checkpoints/i72800_l128.ckpt\"\n",
              "all_model_checkpoint_paths: \"checkpoints/i73000_l128.ckpt\"\n",
              "all_model_checkpoint_paths: \"checkpoints/i73200_l128.ckpt\"\n",
              "all_model_checkpoint_paths: \"checkpoints/i73400_l128.ckpt\"\n",
              "all_model_checkpoint_paths: \"checkpoints/i73600_l128.ckpt\"\n",
              "all_model_checkpoint_paths: \"checkpoints/i73800_l128.ckpt\"\n",
              "all_model_checkpoint_paths: \"checkpoints/i74000_l128.ckpt\"\n",
              "all_model_checkpoint_paths: \"checkpoints/i74200_l128.ckpt\"\n",
              "all_model_checkpoint_paths: \"checkpoints/i74400_l128.ckpt\"\n",
              "all_model_checkpoint_paths: \"checkpoints/i74600_l128.ckpt\"\n",
              "all_model_checkpoint_paths: \"checkpoints/i74800_l128.ckpt\"\n",
              "all_model_checkpoint_paths: \"checkpoints/i75000_l128.ckpt\"\n",
              "all_model_checkpoint_paths: \"checkpoints/i75200_l128.ckpt\"\n",
              "all_model_checkpoint_paths: \"checkpoints/i75400_l128.ckpt\"\n",
              "all_model_checkpoint_paths: \"checkpoints/i75600_l128.ckpt\"\n",
              "all_model_checkpoint_paths: \"checkpoints/i75800_l128.ckpt\"\n",
              "all_model_checkpoint_paths: \"checkpoints/i76000_l128.ckpt\"\n",
              "all_model_checkpoint_paths: \"checkpoints/i76200_l128.ckpt\"\n",
              "all_model_checkpoint_paths: \"checkpoints/i76400_l128.ckpt\"\n",
              "all_model_checkpoint_paths: \"checkpoints/i76600_l128.ckpt\"\n",
              "all_model_checkpoint_paths: \"checkpoints/i76800_l128.ckpt\"\n",
              "all_model_checkpoint_paths: \"checkpoints/i77000_l128.ckpt\"\n",
              "all_model_checkpoint_paths: \"checkpoints/i77200_l128.ckpt\"\n",
              "all_model_checkpoint_paths: \"checkpoints/i77400_l128.ckpt\"\n",
              "all_model_checkpoint_paths: \"checkpoints/i77600_l128.ckpt\"\n",
              "all_model_checkpoint_paths: \"checkpoints/i77800_l128.ckpt\"\n",
              "all_model_checkpoint_paths: \"checkpoints/i78000_l128.ckpt\"\n",
              "all_model_checkpoint_paths: \"checkpoints/i78200_l128.ckpt\"\n",
              "all_model_checkpoint_paths: \"checkpoints/i78400_l128.ckpt\"\n",
              "all_model_checkpoint_paths: \"checkpoints/i78600_l128.ckpt\"\n",
              "all_model_checkpoint_paths: \"checkpoints/i78800_l128.ckpt\"\n",
              "all_model_checkpoint_paths: \"checkpoints/i79000_l128.ckpt\"\n",
              "all_model_checkpoint_paths: \"checkpoints/i79200_l128.ckpt\"\n",
              "all_model_checkpoint_paths: \"checkpoints/i79400_l128.ckpt\""
            ]
          },
          "metadata": {
            "tags": []
          },
          "execution_count": 18
        }
      ]
    },
    {
      "cell_type": "markdown",
      "metadata": {
        "id": "aC0YigUZPTz9",
        "colab_type": "text"
      },
      "source": [
        "## Sampling\n",
        "\n",
        "Now that the network is trained, we'll can use it to generate new text. The idea is that we pass in a character, then the network will predict the next character. We can use the new one, to predict the next one. And we keep doing this to generate all new text. I also included some functionality to prime the network with some text by passing in a string and building up a state from that.\n",
        "\n",
        "The network gives us predictions for each character. To reduce noise and make things a little less random, I'm going to only choose a new character from the top N most likely characters.\n",
        "\n"
      ]
    },
    {
      "cell_type": "code",
      "metadata": {
        "id": "L485DbjGPTz9",
        "colab_type": "code",
        "colab": {}
      },
      "source": [
        "def pick_top_n(preds, vocab_size, top_n=5):\n",
        "    p = np.squeeze(preds)\n",
        "    p[np.argsort(p)[:-top_n]] = 0\n",
        "    p = p / np.sum(p)\n",
        "    c = np.random.choice(vocab_size, 1, p=p)[0]\n",
        "    return c"
      ],
      "execution_count": 19,
      "outputs": []
    },
    {
      "cell_type": "code",
      "metadata": {
        "id": "BOUW3SQaPT0A",
        "colab_type": "code",
        "colab": {}
      },
      "source": [
        "def sample(checkpoint, n_samples, lstm_size, vocab_size, prime=\"The \"):\n",
        "    samples = [c for c in prime]\n",
        "    model = CharRNN(len(vocab), lstm_size=lstm_size, sampling=True)\n",
        "    saver = tf.train.Saver()\n",
        "    with tf.Session() as sess:\n",
        "        saver.restore(sess, checkpoint)\n",
        "        new_state = sess.run(model.initial_state)\n",
        "        for c in prime:\n",
        "            x = np.zeros((1, 1))\n",
        "            x[0,0] = vocab_to_int[c]\n",
        "            feed = {model.inputs: x,\n",
        "                    model.keep_prob: 1.,\n",
        "                    model.initial_state: new_state}\n",
        "            preds, new_state = sess.run([model.prediction, model.final_state], \n",
        "                                         feed_dict=feed)\n",
        "\n",
        "        c = pick_top_n(preds, len(vocab))\n",
        "        samples.append(int_to_vocab[c])\n",
        "\n",
        "        for i in range(n_samples):\n",
        "            x[0,0] = c\n",
        "            feed = {model.inputs: x,\n",
        "                    model.keep_prob: 1.,\n",
        "                    model.initial_state: new_state}\n",
        "            preds, new_state = sess.run([model.prediction, model.final_state], \n",
        "                                         feed_dict=feed)\n",
        "\n",
        "            c = pick_top_n(preds, len(vocab))\n",
        "            samples.append(int_to_vocab[c])\n",
        "        \n",
        "    return ''.join(samples)"
      ],
      "execution_count": 20,
      "outputs": []
    },
    {
      "cell_type": "markdown",
      "metadata": {
        "id": "rncecz0QPT0C",
        "colab_type": "text"
      },
      "source": [
        "Here, pass in the path to a checkpoint and sample from the network."
      ]
    },
    {
      "cell_type": "code",
      "metadata": {
        "id": "dZg_GIQ9PT0C",
        "colab_type": "code",
        "colab": {
          "base_uri": "https://localhost:8080/",
          "height": 35
        },
        "outputId": "2a717974-365f-4b93-9352-29ff78450fda"
      },
      "source": [
        "tf.train.latest_checkpoint('checkpoints')"
      ],
      "execution_count": 21,
      "outputs": [
        {
          "output_type": "execute_result",
          "data": {
            "application/vnd.google.colaboratory.intrinsic": {
              "type": "string"
            },
            "text/plain": [
              "'checkpoints/i79400_l128.ckpt'"
            ]
          },
          "metadata": {
            "tags": []
          },
          "execution_count": 21
        }
      ]
    },
    {
      "cell_type": "code",
      "metadata": {
        "id": "3iGOVteNPT0F",
        "colab_type": "code",
        "colab": {
          "base_uri": "https://localhost:8080/",
          "height": 423
        },
        "outputId": "81b2e4dc-898f-496d-f510-a624179d17c3"
      },
      "source": [
        "checkpoint = tf.train.latest_checkpoint('checkpoints')\n",
        "samp = sample(checkpoint, 2000, lstm_size, len(vocab), prime=\"Far\")\n",
        "print(samp)"
      ],
      "execution_count": 22,
      "outputs": [
        {
          "output_type": "stream",
          "text": [
            "INFO:tensorflow:Restoring parameters from checkpoints/i79400_l128.ckpt\n",
            "Fardance, but she have have to some miss were telling anything, and an old backs with the confection any string of this as and when all she had say the stoom of thow, and\n",
            "had too a man and\n",
            "want a shell where he had shall. And which the tan about that\n",
            "the way would have sat about a creathing. And he concelled to his first, when he came to him, but the hurry were to had at the share to her. \"Not\n",
            "sended,\n",
            "which I don't come to be so she think was that happened a corner a musition of in those siles. I wanted at such talking to see, and that was and that shan's\n",
            "because he can be because it's saying\n",
            "to\n",
            "set on the contempt of intenting. We will be at him of that in the too that he was them in the sore, and\n",
            "to the person.\n",
            "\n",
            "The preceating to be it were the cruction and his son at his was to to can think at she can't talked in a canstous of\n",
            "the her what told the country he was saying it and\n",
            "to see the poors and the called that she saw this to be seemed to a mire and and to sorr her weal to a brish, and an all, and a some straight the countess there was all his conscious on another, but she\n",
            "did not see\n",
            "all the tones, who can him, and was no such\n",
            "that she had said herself. He came in them\n",
            "of them a stop her to the son of still stand of an with and\n",
            "house. \"I don't see, there went into it,\" he said, and he cried to him with a\n",
            "sons of such solitants in what they's weer and so tarring all he came away to the happening\n",
            "the shorrity of her to see, and he had so had shouted his barth. \"I've never betting in that the still the conficic tran, it's so that with any all the contertions time, and a same. I have\n",
            "naturally walked and tell a land the positions, that's a pothing and the complation and he come him working to his woman. The solute and waiting to be a consciant, and stopped that seemed to her work and home all the secures to start that that she was at the collace of and alone. The pruce interesting the carry to his stows of the horses the mother had been ten as seemed home of his work\n"
          ],
          "name": "stdout"
        }
      ]
    },
    {
      "cell_type": "code",
      "metadata": {
        "id": "73Gdkx-LPT0H",
        "colab_type": "code",
        "colab": {
          "base_uri": "https://localhost:8080/",
          "height": 306
        },
        "outputId": "7089e20a-22c8-4dfd-df4b-c73995facbcc"
      },
      "source": [
        "checkpoint = 'checkpoints/i59600_l128.ckpt'\n",
        "samp = sample(checkpoint, 1000, lstm_size, len(vocab), prime=\"Far\")\n",
        "print(samp)"
      ],
      "execution_count": 25,
      "outputs": [
        {
          "output_type": "stream",
          "text": [
            "INFO:tensorflow:Restoring parameters from checkpoints/i59600_l128.ckpt\n",
            "Fary to his hand and than had there are that the pais and\n",
            "him about a stooning, and he would be see him into and horse.\n",
            "\n",
            "Stepan Arkadyevitch as to\n",
            "the stopper to angires went out\n",
            "off her the\n",
            "which stood had been stell in it. And he\n",
            "was too world the portant. \"That's a senter. The thoughts and he could not be it at the thoughts it was a she sent him of his more the same whole heart. There was the close hort, but there was saying towards themself was a cares. \"You had at the stashing in\n",
            "house. I've tried to be in son, I'll be and all, as there. I did not that him. And time, tell the same sorriticated.\"\n",
            "\n",
            "\"Why have a country, to start and the cord to her than happiness and atterthed on any made, in the money, in this stared it his mistood were bound a coming in the passed her hind it and and some money over with which he was\n",
            "took her as when were seemed of this sast of those without the strongel women, and he couldn't\n",
            "the something there had\n",
            "a said his boid that\n",
            "the prodicility, and he's shoul\n"
          ],
          "name": "stdout"
        }
      ]
    },
    {
      "cell_type": "code",
      "metadata": {
        "id": "Ec5auaCKPT0K",
        "colab_type": "code",
        "colab": {
          "base_uri": "https://localhost:8080/",
          "height": 353
        },
        "outputId": "3e420dc2-ee38-4bdf-c681-55054bbe20a9"
      },
      "source": [
        "checkpoint = 'checkpoints/i62800_l128.ckpt'\n",
        "samp = sample(checkpoint, 1000, lstm_size, len(vocab), prime=\"Far\")\n",
        "print(samp)"
      ],
      "execution_count": 27,
      "outputs": [
        {
          "output_type": "stream",
          "text": [
            "INFO:tensorflow:Restoring parameters from checkpoints/i62800_l128.ckpt\n",
            "Fard what she did not be a chuth when he was at him to his man of her she took. He said to him to the\n",
            "care, to himself of her tinst to his words, sand of\n",
            "the senrer, had something the same anything. He seemed the master, happy was stepping which the same hard his wife of with the thoughts and would think\n",
            "on house took\n",
            "we call of her serious\n",
            "showlings of the contine was thought, and what her hall, he should say\n",
            "to the morth of settle, but he had so that was so happening with\n",
            "the\n",
            "potation. Thinking and to take home a shate, and as atselfed a prince was not all an one would have become the most becarse timine.\n",
            "\n",
            "\"As all\n",
            "the sound to sometomest to think about that was. At what is the position as there\n",
            "had taken to the confess. Serite on the priest of the that trant to starce,\" said\n",
            "the saw, shimitated her, time of a prince, and his forestend the mething, and went to her...\"\n",
            "\n",
            "\"This had\n",
            "to made,\" she said.\n",
            "\n",
            "\"I want, that's an observe a person, but I move and to be in in these ternase will see the\n"
          ],
          "name": "stdout"
        }
      ]
    },
    {
      "cell_type": "code",
      "metadata": {
        "id": "56r3PYr5PT0M",
        "colab_type": "code",
        "colab": {
          "base_uri": "https://localhost:8080/",
          "height": 339
        },
        "outputId": "7a6bf4c2-7fac-4408-a7f4-c34aad164634"
      },
      "source": [
        "checkpoint = 'checkpoints/i66400_l128.ckpt'\n",
        "samp = sample(checkpoint, 1000, lstm_size, len(vocab), prime=\"Far\")\n",
        "print(samp)"
      ],
      "execution_count": 28,
      "outputs": [
        {
          "output_type": "stream",
          "text": [
            "INFO:tensorflow:Restoring parameters from checkpoints/i66400_l128.ckpt\n",
            "Farsov as table, who sealed his convirsed had this sense of an announce to home, she was all as his comminting.\n",
            "\n",
            "\"Ah, you shall be back home,\" said Anna to the clithed thing\n",
            "had there were\n",
            "taken her stoughts, too, she\n",
            "came have heard\n",
            "the challers when she had been the since to a consciance the tarre to have\n",
            "sting\n",
            "of\n",
            "same thought they had saying him. \"I did not have a comben,\" he said in his wife had a more as he was as that was a sery wife's between this bowe of the sissers. The portrait though he's as they could stood the church\n",
            "his husband were a meaning, though he had not through her house at the brother. Anna had been said in the sort tortally\n",
            "too a minutes to the second as he went up to his bath in happy all as a less\n",
            "as he want it to and to a basten, what what had been brightened to himself to stands. Her,\"\n",
            "he said. \"There the sour to still time it as a said and to decanter,\n",
            "he's share out, with her wife there\n",
            "will certain, sent, and they went and he did not say if I had\n",
            "not always, \n"
          ],
          "name": "stdout"
        }
      ]
    },
    {
      "cell_type": "code",
      "metadata": {
        "id": "5fXGiSd4py0k",
        "colab_type": "code",
        "colab": {}
      },
      "source": [
        ""
      ],
      "execution_count": null,
      "outputs": []
    }
  ]
}
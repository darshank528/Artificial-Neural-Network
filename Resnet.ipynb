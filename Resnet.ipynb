{
  "nbformat": 4,
  "nbformat_minor": 0,
  "metadata": {
    "colab": {
      "name": "Resnet.ipynb",
      "provenance": [],
      "collapsed_sections": [],
      "authorship_tag": "ABX9TyOc+8T77plD4o21PcBIHA/z",
      "include_colab_link": true
    },
    "kernelspec": {
      "name": "python3",
      "display_name": "Python 3"
    },
    "accelerator": "GPU"
  },
  "cells": [
    {
      "cell_type": "markdown",
      "metadata": {
        "id": "view-in-github",
        "colab_type": "text"
      },
      "source": [
        "<a href=\"https://colab.research.google.com/github/darshank528/Artificial-Neural-Network/blob/master/Resnet.ipynb\" target=\"_parent\"><img src=\"https://colab.research.google.com/assets/colab-badge.svg\" alt=\"Open In Colab\"/></a>"
      ]
    },
    {
      "cell_type": "code",
      "metadata": {
        "id": "g1CXk8VvVQGA",
        "colab_type": "code",
        "outputId": "719f1e23-b13f-4e02-fb2d-0d6d62f66f9a",
        "colab": {
          "base_uri": "https://localhost:8080/",
          "height": 363
        }
      },
      "source": [
        "import torch\n",
        "import torchvision\n",
        "import torchvision.transforms as transforms\n",
        "import torchvision.datasets as datasets\n",
        "from torch.utils.data import DataLoader\n",
        "import torch.optim as optim\n",
        "import torch.nn as nn\n",
        "import matplotlib.pyplot as plt\n",
        "import import_ipynb\n",
        "import resnet34\n",
        "\n",
        "#setting device configuration\n",
        "device=torch.device(\"cuda\" if torch.cuda.is_available else \"cpu\")\n",
        "\n",
        "#setting transforms\n",
        "transform=transforms.Compose([transforms.Resize(224),transforms.ToTensor(),transforms.Normalize([0.5,0.5,0.5],[0.5,0.5,0.5])])\n",
        "\n",
        "#loading and preparing data\n",
        "train_data=datasets.CIFAR10(root=r\"C:\\Users\\Darshan Khandelwal\\OneDrive\\Desktop\\data\",download=True,transform=transform,train=True)\n",
        "trainloader=DataLoader(dataset=train_data,batch_size=50,shuffle=True)\n",
        "test_data=datasets.CIFAR10(root=r\"C:\\Users\\Darshan Khandelwal\\OneDrive\\Desktop\\data\",download=False,transform=transform,train=False)\n",
        "testloader=DataLoader(dataset=test_data,batch_size=50)\n",
        "\n",
        "#plotting an example from the training set\n",
        "example=iter(trainloader)\n",
        "samples,labels=example.next()\n",
        "print(samples.shape)\n",
        "print(labels.shape)\n",
        "plt.imshow(samples[0,0])\n",
        "plt.show()"
      ],
      "execution_count": 58,
      "outputs": [
        {
          "output_type": "error",
          "ename": "ModuleNotFoundError",
          "evalue": "ignored",
          "traceback": [
            "\u001b[0;31m---------------------------------------------------------------------------\u001b[0m",
            "\u001b[0;31mModuleNotFoundError\u001b[0m                       Traceback (most recent call last)",
            "\u001b[0;32m<ipython-input-58-db1fa04a1216>\u001b[0m in \u001b[0;36m<module>\u001b[0;34m()\u001b[0m\n\u001b[1;32m      8\u001b[0m \u001b[0;32mimport\u001b[0m \u001b[0mmatplotlib\u001b[0m\u001b[0;34m.\u001b[0m\u001b[0mpyplot\u001b[0m \u001b[0;32mas\u001b[0m \u001b[0mplt\u001b[0m\u001b[0;34m\u001b[0m\u001b[0;34m\u001b[0m\u001b[0m\n\u001b[1;32m      9\u001b[0m \u001b[0;32mimport\u001b[0m \u001b[0mimport_ipynb\u001b[0m\u001b[0;34m\u001b[0m\u001b[0;34m\u001b[0m\u001b[0m\n\u001b[0;32m---> 10\u001b[0;31m \u001b[0;32mimport\u001b[0m \u001b[0mresnet34\u001b[0m\u001b[0;34m\u001b[0m\u001b[0;34m\u001b[0m\u001b[0m\n\u001b[0m\u001b[1;32m     11\u001b[0m \u001b[0;34m\u001b[0m\u001b[0m\n\u001b[1;32m     12\u001b[0m \u001b[0;31m#setting device configuration\u001b[0m\u001b[0;34m\u001b[0m\u001b[0;34m\u001b[0m\u001b[0;34m\u001b[0m\u001b[0m\n",
            "\u001b[0;31mModuleNotFoundError\u001b[0m: No module named 'resnet34'",
            "",
            "\u001b[0;31m---------------------------------------------------------------------------\u001b[0;32m\nNOTE: If your import is failing due to a missing package, you can\nmanually install dependencies using either !pip or !apt.\n\nTo view examples of installing some common dependencies, click the\n\"Open Examples\" button below.\n\u001b[0;31m---------------------------------------------------------------------------\u001b[0m\n"
          ]
        }
      ]
    },
    {
      "cell_type": "code",
      "metadata": {
        "id": "-niQwveNKIF4",
        "colab_type": "code",
        "outputId": "5c2ca2af-40bd-4a1b-e60c-e4441fafe416",
        "colab": {
          "base_uri": "https://localhost:8080/",
          "height": 229
        }
      },
      "source": [
        "#hyperparameters\n",
        "num_epochs=20\n",
        "learn_rate=0.001\n",
        "num_iterations=len(trainloader)\n",
        "batch_size=1\n",
        "\n",
        "#defining the model on which CIFAR10 data is to be trained\n",
        "model =ResNet34()\n",
        "#defining the loss criteria to be used\n",
        "criterion = nn.CrossEntropyLoss()\n",
        "\n",
        "#defining the optimizer\n",
        "optimizer = optim.Adam(model.parameters(),lr=0.001)\n",
        "\n",
        "train_loss=[]\n",
        "#training our model\n",
        "for e in range(num_epochs):\n",
        "  tr_loss=0\n",
        "  model.train()\n",
        "\n",
        "  for (samples,labels) in trainloader:\n",
        "    samples = samples.to(device)\n",
        "    labels = labels.to(device)\n",
        "    #model predictions\n",
        "    y_predicted = model(samples)\n",
        "    #cost\n",
        "    cost = criterion(y_predicted,labels)\n",
        "    tr_loss+=cost.item()\n",
        "    #calculate gradients\n",
        "    cost.backward()\n",
        "    #update parameters\n",
        "    optimizer.step()\n",
        "    #avoid accumulation of gradients\n",
        "    optimizer.zero_grad()\n",
        "  #printing loss per 2 epochs\n",
        "  #if (e+1)%2 == 0:\n",
        "  print(\"epoch:\",e+1,\"/\",num_epochs,\" loss:{0:.4f}\".format(tr_loss))\n",
        "  train_loss.append(tr_loss) \n",
        "\n",
        "#plotting loss per epoch \n",
        "plt.plot(train_loss,color=\"b\")\n",
        "plt.xlabel(\"Epochs\")\n",
        "plt.ylabel(\"Train_loss\")\n",
        "plt.title(\"Loss per epoch\")\n",
        "plt.show()"
      ],
      "execution_count": 0,
      "outputs": [
        {
          "output_type": "error",
          "ename": "NameError",
          "evalue": "ignored",
          "traceback": [
            "\u001b[0;31m---------------------------------------------------------------------------\u001b[0m",
            "\u001b[0;31mNameError\u001b[0m                                 Traceback (most recent call last)",
            "\u001b[0;32m<ipython-input-39-5582f38eed7f>\u001b[0m in \u001b[0;36m<module>\u001b[0;34m()\u001b[0m\n\u001b[1;32m      6\u001b[0m \u001b[0;34m\u001b[0m\u001b[0m\n\u001b[1;32m      7\u001b[0m \u001b[0;31m#defining the model on which CIFAR10 data is to be trained\u001b[0m\u001b[0;34m\u001b[0m\u001b[0;34m\u001b[0m\u001b[0;34m\u001b[0m\u001b[0m\n\u001b[0;32m----> 8\u001b[0;31m \u001b[0mmodel\u001b[0m \u001b[0;34m=\u001b[0m\u001b[0mResNet34\u001b[0m\u001b[0;34m(\u001b[0m\u001b[0;34m)\u001b[0m\u001b[0;34m\u001b[0m\u001b[0;34m\u001b[0m\u001b[0m\n\u001b[0m\u001b[1;32m      9\u001b[0m \u001b[0;31m#defining the loss criteria to be used\u001b[0m\u001b[0;34m\u001b[0m\u001b[0;34m\u001b[0m\u001b[0;34m\u001b[0m\u001b[0m\n\u001b[1;32m     10\u001b[0m \u001b[0mcriterion\u001b[0m \u001b[0;34m=\u001b[0m \u001b[0mnn\u001b[0m\u001b[0;34m.\u001b[0m\u001b[0mCrossEntropyLoss\u001b[0m\u001b[0;34m(\u001b[0m\u001b[0;34m)\u001b[0m\u001b[0;34m\u001b[0m\u001b[0;34m\u001b[0m\u001b[0m\n",
            "\u001b[0;31mNameError\u001b[0m: name 'ResNet34' is not defined"
          ]
        }
      ]
    },
    {
      "cell_type": "code",
      "metadata": {
        "id": "PJfcbfaGo4Qp",
        "colab_type": "code",
        "outputId": "db45b551-f346-49a5-998d-3b9267b0baba",
        "colab": {
          "base_uri": "https://localhost:8080/",
          "height": 202
        }
      },
      "source": [
        "#evaluating our trained model on test data\n",
        "classes=['plane','car','bird','cat','deer','dog','frog','horse','ship','truck']\n",
        "with torch.no_grad():\n",
        "  \n",
        "  model.eval()\n",
        "  n_samples = 0\n",
        "  n_correct = 0\n",
        "  n_class_correct = [0 for i in range(10)]\n",
        "  n_class_samples = [0 for i in range(10)]\n",
        "\n",
        "  for (samples,labels) in testloader:\n",
        "    samples = samples.to(device)\n",
        "    labels = labels.to(device)\n",
        "    y_pred = model(samples)\n",
        "    _,prediction = torch.max(y_pred,1)\n",
        "    n_samples+= labels.shape[0]\n",
        "    n_correct+= (prediction == labels).sum().item()\n",
        "\n",
        "    for i in range(batch_size):\n",
        "      label = labels[i].item()\n",
        "      predict = prediction[i].item()\n",
        "      if label == predict:\n",
        "        n_class_correct[label]+= 1\n",
        "      n_class_samples[label]+= 1\n",
        "  \n",
        "  #printing overall accuracy\n",
        "  accuracy = 100*n_correct/(float)(n_samples)\n",
        "  print(\"Overall accuracy of system: {0:.2f}%\".format(accuracy))  \n",
        "\n",
        "  #printing accuracy of each class\n",
        "  for i in range(10):\n",
        "    acc=100*n_class_correct[i]/n_class_samples[i]\n",
        "    print(\"Accuracy of digit\",classes[i],\"= {:.2f}%\".format(acc)) "
      ],
      "execution_count": 0,
      "outputs": [
        {
          "output_type": "stream",
          "text": [
            "Overall accuracy of system: 10.00%\n",
            "Accuracy of digit plane = 0.00%\n",
            "Accuracy of digit car = 100.00%\n",
            "Accuracy of digit bird = 0.00%\n",
            "Accuracy of digit cat = 0.00%\n",
            "Accuracy of digit deer = 0.00%\n",
            "Accuracy of digit dog = 0.00%\n",
            "Accuracy of digit frog = 0.00%\n",
            "Accuracy of digit horse = 0.00%\n",
            "Accuracy of digit ship = 0.00%\n",
            "Accuracy of digit truck = 0.00%\n"
          ],
          "name": "stdout"
        }
      ]
    },
    {
      "cell_type": "code",
      "metadata": {
        "id": "AOihxgkHpdjD",
        "colab_type": "code",
        "colab": {}
      },
      "source": [
        ""
      ],
      "execution_count": 0,
      "outputs": []
    }
  ]
}
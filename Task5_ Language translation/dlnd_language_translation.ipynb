{
  "nbformat": 4,
  "nbformat_minor": 0,
  "metadata": {
    "anaconda-cloud": {},
    "kernelspec": {
      "display_name": "Python 3",
      "language": "python",
      "name": "python3"
    },
    "language_info": {
      "codemirror_mode": {
        "name": "ipython",
        "version": 3
      },
      "file_extension": ".py",
      "mimetype": "text/x-python",
      "name": "python",
      "nbconvert_exporter": "python",
      "pygments_lexer": "ipython3",
      "version": "3.7.5"
    },
    "colab": {
      "name": "dlnd_language_translation.ipynb",
      "provenance": [],
      "collapsed_sections": []
    },
    "accelerator": "GPU"
  },
  "cells": [
    {
      "cell_type": "markdown",
      "metadata": {
        "collapsed": true,
        "id": "e-knMvvCQ50E",
        "colab_type": "text"
      },
      "source": [
        "# Language Translation\n",
        "In this project, you’re going to take a peek into the realm of neural network machine translation.  You’ll be training a sequence to sequence model on a dataset of English and French sentences that can translate new sentences from English to French.\n",
        "## Get the Data\n",
        "Since translating the whole language of English to French will take lots of time to train, we have provided you with a small portion of the English corpus."
      ]
    },
    {
      "cell_type": "code",
      "metadata": {
        "id": "QHq3gfD0Q50G",
        "colab_type": "code",
        "colab": {
          "base_uri": "https://localhost:8080/",
          "height": 34
        },
        "outputId": "0faa12f2-cbcf-4646-bf03-d840de2318df"
      },
      "source": [
        "\"\"\"\n",
        "DON'T MODIFY ANYTHING IN THIS CELL\n",
        "\"\"\"\n",
        "%tensorflow_version 1.x\n",
        "import sys\n",
        "sys.path.append('\\content\\sample_data')\n",
        "import sample_data.helper as helper\n",
        "import sample_data.problem_unittests as tests\n",
        "\n",
        "source_path = 'sample_data/small_vocab_en'\n",
        "target_path = 'sample_data/small_vocab_fr'\n",
        "source_text = helper.load_data(source_path)\n",
        "target_text = helper.load_data(target_path)"
      ],
      "execution_count": 1,
      "outputs": [
        {
          "output_type": "stream",
          "text": [
            "TensorFlow 1.x selected.\n"
          ],
          "name": "stdout"
        }
      ]
    },
    {
      "cell_type": "markdown",
      "metadata": {
        "id": "Fr0itRV3Q50K",
        "colab_type": "text"
      },
      "source": [
        "## Explore the Data\n",
        "Play around with view_sentence_range to view different parts of the data."
      ]
    },
    {
      "cell_type": "code",
      "metadata": {
        "id": "PDK39v9qQ50L",
        "colab_type": "code",
        "colab": {
          "base_uri": "https://localhost:8080/",
          "height": 487
        },
        "outputId": "6db613ad-14e6-4bd6-e8d9-38dc3facb750"
      },
      "source": [
        "view_sentence_range = (0, 10)\n",
        "\n",
        "import numpy as np\n",
        "\n",
        "print('Dataset Stats')\n",
        "print('Roughly the number of unique words: {}'.format(len({word: None for word in source_text.split()})))\n",
        "\n",
        "sentences = source_text.split('\\n')\n",
        "word_counts = [len(sentence.split()) for sentence in sentences]\n",
        "print('Number of sentences: {}'.format(len(sentences)))\n",
        "print('Average number of words in a sentence: {}'.format(np.average(word_counts)))\n",
        "\n",
        "print()\n",
        "print('English sentences {} to {}:'.format(*view_sentence_range))\n",
        "print('\\n'.join(source_text.split('\\n')[view_sentence_range[0]:view_sentence_range[1]]))\n",
        "print()\n",
        "print('French sentences {} to {}:'.format(*view_sentence_range))\n",
        "print('\\n'.join(target_text.split('\\n')[view_sentence_range[0]:view_sentence_range[1]]))"
      ],
      "execution_count": 2,
      "outputs": [
        {
          "output_type": "stream",
          "text": [
            "Dataset Stats\n",
            "Roughly the number of unique words: 227\n",
            "Number of sentences: 137861\n",
            "Average number of words in a sentence: 13.225277634719028\n",
            "\n",
            "English sentences 0 to 10:\n",
            "new jersey is sometimes quiet during autumn , and it is snowy in april .\n",
            "the united states is usually chilly during july , and it is usually freezing in november .\n",
            "california is usually quiet during march , and it is usually hot in june .\n",
            "the united states is sometimes mild during june , and it is cold in september .\n",
            "your least liked fruit is the grape , but my least liked is the apple .\n",
            "his favorite fruit is the orange , but my favorite is the grape .\n",
            "paris is relaxing during december , but it is usually chilly in july .\n",
            "new jersey is busy during spring , and it is never hot in march .\n",
            "our least liked fruit is the lemon , but my least liked is the grape .\n",
            "the united states is sometimes busy during january , and it is sometimes warm in november .\n",
            "\n",
            "French sentences 0 to 10:\n",
            "new jersey est parfois calme pendant l' automne , et il est neigeux en avril .\n",
            "les états-unis est généralement froid en juillet , et il gèle habituellement en novembre .\n",
            "california est généralement calme en mars , et il est généralement chaud en juin .\n",
            "les états-unis est parfois légère en juin , et il fait froid en septembre .\n",
            "votre moins aimé fruit est le raisin , mais mon moins aimé est la pomme .\n",
            "son fruit préféré est l'orange , mais mon préféré est le raisin .\n",
            "paris est relaxant en décembre , mais il est généralement froid en juillet .\n",
            "new jersey est occupé au printemps , et il est jamais chaude en mars .\n",
            "notre fruit est moins aimé le citron , mais mon moins aimé est le raisin .\n",
            "les états-unis est parfois occupé en janvier , et il est parfois chaud en novembre .\n"
          ],
          "name": "stdout"
        }
      ]
    },
    {
      "cell_type": "markdown",
      "metadata": {
        "id": "BVlneFY-Q50O",
        "colab_type": "text"
      },
      "source": [
        "## Implement Preprocessing Function\n",
        "### Text to Word Ids\n",
        "As you did with other RNNs, you must turn the text into a number so the computer can understand it. In the function `text_to_ids()`, you'll turn `source_text` and `target_text` from words to ids.  However, you need to add the `<EOS>` word id at the end of `target_text`.  This will help the neural network predict when the sentence should end.\n",
        "\n",
        "You can get the `<EOS>` word id by doing:\n",
        "```python\n",
        "target_vocab_to_int['<EOS>']\n",
        "```\n",
        "You can get other word ids using `source_vocab_to_int` and `target_vocab_to_int`."
      ]
    },
    {
      "cell_type": "code",
      "metadata": {
        "id": "7a3jx_9hQ50P",
        "colab_type": "code",
        "colab": {}
      },
      "source": [
        "def text_to_ids(source_text, target_text, source_vocab_to_int, target_vocab_to_int):\n",
        "    \"\"\"\n",
        "    Convert source and target text to proper word ids\n",
        "    :param source_text: String that contains all the source text.\n",
        "    :param target_text: String that contains all the target text.\n",
        "    :param source_vocab_to_int: Dictionary to go from the source words to an id\n",
        "    :param target_vocab_to_int: Dictionary to go from the target words to an id\n",
        "    :return: A tuple of lists (source_id_text, target_id_text)\n",
        "    \"\"\"\n",
        "    # TODO: Implement Function\n",
        "    list1 = [[source_vocab_to_int[word] for word in line.split()] for line in source_text.split('\\n')]\n",
        "    list2 = [[target_vocab_to_int[word] for word in line.split()] + [target_vocab_to_int['<EOS>']] for line in target_text.split('\\n')]\n",
        "  \n",
        "    return list1, list2"
      ],
      "execution_count": 3,
      "outputs": []
    },
    {
      "cell_type": "code",
      "metadata": {
        "id": "V3JgWCRONMPx",
        "colab_type": "code",
        "colab": {
          "base_uri": "https://localhost:8080/",
          "height": 34
        },
        "outputId": "6d12da6f-ba68-41b1-b21c-3b9ea3e8573b"
      },
      "source": [
        "tests.test_text_to_ids(text_to_ids)"
      ],
      "execution_count": 4,
      "outputs": [
        {
          "output_type": "stream",
          "text": [
            "Tests Passed\n"
          ],
          "name": "stdout"
        }
      ]
    },
    {
      "cell_type": "markdown",
      "metadata": {
        "id": "IaS2uTEbQ50S",
        "colab_type": "text"
      },
      "source": [
        "### Preprocess all the data and save it\n",
        "Running the code cell below will preprocess all the data and save it to file."
      ]
    },
    {
      "cell_type": "code",
      "metadata": {
        "id": "UlapqdCWQ50T",
        "colab_type": "code",
        "colab": {}
      },
      "source": [
        "helper.preprocess_and_save_data(source_path, target_path, text_to_ids)"
      ],
      "execution_count": 5,
      "outputs": []
    },
    {
      "cell_type": "markdown",
      "metadata": {
        "id": "TbmYxwinQ50W",
        "colab_type": "text"
      },
      "source": [
        "# Check Point\n",
        "This is your first checkpoint. If you ever decide to come back to this notebook or have to restart the notebook, you can start from here. The preprocessed data has been saved to disk."
      ]
    },
    {
      "cell_type": "code",
      "metadata": {
        "id": "5qBXfk5zQ50X",
        "colab_type": "code",
        "colab": {}
      },
      "source": [
        "import numpy as np\n",
        "import sample_data.helper as helper\n",
        "import sample_data.problem_unittests as tests\n",
        "\n",
        "(source_int_text, target_int_text), (source_vocab_to_int, target_vocab_to_int), _ = helper.load_preprocess()"
      ],
      "execution_count": 6,
      "outputs": []
    },
    {
      "cell_type": "markdown",
      "metadata": {
        "id": "k8-wQLdYQ50Z",
        "colab_type": "text"
      },
      "source": [
        "### Check the Version of TensorFlow and Access to GPU\n",
        "This will check to make sure you have the correct version of TensorFlow and access to a GPU"
      ]
    },
    {
      "cell_type": "code",
      "metadata": {
        "id": "RksneP99Q50a",
        "colab_type": "code",
        "colab": {
          "base_uri": "https://localhost:8080/",
          "height": 50
        },
        "outputId": "f4a42fdc-2ab9-4e77-dc5f-44ecc1ffddc6"
      },
      "source": [
        "from distutils.version import LooseVersion\n",
        "import warnings\n",
        "import tensorflow as tf\n",
        "from tensorflow.python.layers.core import Dense\n",
        "\n",
        "# Check TensorFlow Version\n",
        "assert LooseVersion(tf.__version__) >= LooseVersion('1.1'), 'Please use TensorFlow version 1.1 or newer'\n",
        "print('TensorFlow Version: {}'.format(tf.__version__))\n",
        "\n",
        "# Check for a GPU\n",
        "if not tf.test.gpu_device_name():\n",
        "    warnings.warn('No GPU found. Please use a GPU to train your neural network.')\n",
        "else:\n",
        "    print('Default GPU Device: {}'.format(tf.test.gpu_device_name()))"
      ],
      "execution_count": 7,
      "outputs": [
        {
          "output_type": "stream",
          "text": [
            "TensorFlow Version: 1.15.2\n",
            "Default GPU Device: /device:GPU:0\n"
          ],
          "name": "stdout"
        }
      ]
    },
    {
      "cell_type": "markdown",
      "metadata": {
        "id": "lkmjrsRoQ50d",
        "colab_type": "text"
      },
      "source": [
        "## Build the Neural Network\n",
        "You'll build the components necessary to build a Sequence-to-Sequence model by implementing the following functions below:\n",
        "- `model_inputs`\n",
        "- `process_decoder_input`\n",
        "- `encoding_layer`\n",
        "- `decoding_layer_train`\n",
        "- `decoding_layer_infer`\n",
        "- `decoding_layer`\n",
        "- `seq2seq_model`\n",
        "\n",
        "### Input\n",
        "Implement the `model_inputs()` function to create TF Placeholders for the Neural Network. It should create the following placeholders:\n",
        "\n",
        "- Input text placeholder named \"input\" using the TF Placeholder name parameter with rank 2.\n",
        "- Targets placeholder with rank 2.\n",
        "- Learning rate placeholder with rank 0.\n",
        "- Keep probability placeholder named \"keep_prob\" using the TF Placeholder name parameter with rank 0.\n",
        "- Target sequence length placeholder named \"target_sequence_length\" with rank 1\n",
        "- Max target sequence length tensor named \"max_target_len\" getting its value from applying tf.reduce_max on the target_sequence_length placeholder. Rank 0.\n",
        "- Source sequence length placeholder named \"source_sequence_length\" with rank 1\n",
        "\n",
        "Return the placeholders in the following the tuple (input, targets, learning rate, keep probability, target sequence length, max target sequence length, source sequence length)"
      ]
    },
    {
      "cell_type": "code",
      "metadata": {
        "id": "zcx-x5XDQ50e",
        "colab_type": "code",
        "colab": {
          "base_uri": "https://localhost:8080/",
          "height": 34
        },
        "outputId": "1db0cf9d-f092-41d8-8ed4-3034dec236f1"
      },
      "source": [
        "def model_inputs():\n",
        "    \"\"\"\n",
        "    Create TF Placeholders for input, targets, learning rate, and lengths of source and target sequences.\n",
        "    :return: Tuple (input, targets, learning rate, keep probability, target sequence length,\n",
        "    max target sequence length, source sequence length)\n",
        "    \"\"\"\n",
        "    # TODO: Implement Function\n",
        "    inputs = tf.placeholder(tf.int32,shape=[None,None],name=\"input\")\n",
        "    targets = tf.placeholder(tf.int32,shape=[None,None],name=\"target\")\n",
        "    learning_rate = tf.placeholder(tf.float32,shape=(),name=\"lr\")\n",
        "    keep_prob = tf.placeholder(tf.float32,shape=(),name=\"keep_prob\")\n",
        "    target_length = tf.placeholder(tf.int32,shape=[None],name=\"target_sequence_length\")\n",
        "    max_target_len = tf.reduce_max(target_length,name=\"max_target_len\")\n",
        "    source_len = tf.placeholder(tf.int32,[None],name=\"source_sequence_length\")\n",
        "    return inputs, targets, learning_rate, keep_prob, target_length, max_target_len, source_len\n",
        "\n",
        "tests.test_model_inputs(model_inputs)"
      ],
      "execution_count": 9,
      "outputs": [
        {
          "output_type": "stream",
          "text": [
            "Tests Passed\n"
          ],
          "name": "stdout"
        }
      ]
    },
    {
      "cell_type": "markdown",
      "metadata": {
        "id": "ijpoQPmLQ50h",
        "colab_type": "text"
      },
      "source": [
        "### Process Decoder Input\n",
        "Implement `process_decoder_input` by removing the last word id from each batch in `target_data` and concat the GO ID to the begining of each batch."
      ]
    },
    {
      "cell_type": "code",
      "metadata": {
        "id": "oiY0BTcqQ50h",
        "colab_type": "code",
        "colab": {
          "base_uri": "https://localhost:8080/",
          "height": 34
        },
        "outputId": "9b4f9f45-19ac-4e46-b4c1-670ee34436d1"
      },
      "source": [
        "def process_decoder_input(target_data, target_vocab_to_int, batch_size):\n",
        "    \"\"\"\n",
        "    Preprocess target data for encoding\n",
        "    :param target_data: Target Placehoder\n",
        "    :param target_vocab_to_int: Dictionary to go from the target words to an id\n",
        "    :param batch_size: Batch Size\n",
        "    :return: Preprocessed target data\n",
        "    \"\"\"\n",
        "    # TODO: Implement Function\n",
        "    ending = tf.strided_slice(target_data, [0, 0], [batch_size, -1], [1, 1])\n",
        "    dec_input = tf.concat([tf.fill([batch_size, 1], target_vocab_to_int['<GO>']), ending], 1)\n",
        "    return dec_input\n",
        "\n",
        "tests.test_process_encoding_input(process_decoder_input)"
      ],
      "execution_count": 11,
      "outputs": [
        {
          "output_type": "stream",
          "text": [
            "Tests Passed\n"
          ],
          "name": "stdout"
        }
      ]
    },
    {
      "cell_type": "markdown",
      "metadata": {
        "id": "slkF3sLyQ50l",
        "colab_type": "text"
      },
      "source": [
        "### Encoding\n",
        "Implement `encoding_layer()` to create a Encoder RNN layer:\n",
        " * Embed the encoder input using [`tf.contrib.layers.embed_sequence`](https://www.tensorflow.org/api_docs/python/tf/contrib/layers/embed_sequence)\n",
        " * Construct a [stacked](https://github.com/tensorflow/tensorflow/blob/6947f65a374ebf29e74bb71e36fd82760056d82c/tensorflow/docs_src/tutorials/recurrent.md#stacking-multiple-lstms) [`tf.contrib.rnn.LSTMCell`](https://www.tensorflow.org/api_docs/python/tf/contrib/rnn/LSTMCell) wrapped in a [`tf.contrib.rnn.DropoutWrapper`](https://www.tensorflow.org/api_docs/python/tf/contrib/rnn/DropoutWrapper)\n",
        " * Pass cell and embedded input to [`tf.nn.dynamic_rnn()`](https://www.tensorflow.org/api_docs/python/tf/nn/dynamic_rnn)"
      ]
    },
    {
      "cell_type": "code",
      "metadata": {
        "scrolled": false,
        "id": "qAtdpJkNQ50m",
        "colab_type": "code",
        "colab": {
          "base_uri": "https://localhost:8080/",
          "height": 34
        },
        "outputId": "ccb7ca90-c2c9-496c-bafd-a0018091d895"
      },
      "source": [
        "from imp import reload\n",
        "reload(tests)\n",
        "\n",
        "def encoding_layer(rnn_inputs, rnn_size, num_layers, keep_prob, \n",
        "                   source_sequence_length, source_vocab_size, \n",
        "                   encoding_embedding_size):\n",
        "    \"\"\"\n",
        "    Create encoding layer\n",
        "    :param rnn_inputs: Inputs for the RNN\n",
        "    :param rnn_size: RNN Size\n",
        "    :param num_layers: Number of layers\n",
        "    :param keep_prob: Dropout keep probability\n",
        "    :param source_sequence_length: a list of the lengths of each sequence in the batch\n",
        "    :param source_vocab_size: vocabulary size of source data\n",
        "    :param encoding_embedding_size: embedding size of source data\n",
        "    :return: tuple (RNN output, RNN state)\n",
        "    \"\"\"\n",
        "    # TODO: Implement Function\n",
        "    encode_input =  tf.contrib.layers.embed_sequence(rnn_inputs,source_vocab_size,encoding_embedding_size)\n",
        "\n",
        "    def build_cell(rnn_size,keep_prob):\n",
        "      basic_cell = tf.contrib.rnn.LSTMCell(rnn_size,initializer=tf.random_uniform_initializer(-0.1, 0.1, seed=2))\n",
        "      drop = tf.contrib.rnn.DropoutWrapper(basic_cell,output_keep_prob=keep_prob)\n",
        "      return drop\n",
        "    cell = tf.contrib.rnn.MultiRNNCell([build_cell(rnn_size,keep_prob) for _ in range(num_layers)])\n",
        "\n",
        "    output,final_state = tf.nn.dynamic_rnn(cell,encode_input,source_sequence_length,dtype=tf.float32)\n",
        "\n",
        "    return output, final_state\n",
        "\n",
        "tests.test_encoding_layer(encoding_layer)"
      ],
      "execution_count": 13,
      "outputs": [
        {
          "output_type": "stream",
          "text": [
            "Tests Passed\n"
          ],
          "name": "stdout"
        }
      ]
    },
    {
      "cell_type": "markdown",
      "metadata": {
        "id": "RkEJelt6Q50o",
        "colab_type": "text"
      },
      "source": [
        "### Decoding - Training\n",
        "Create a training decoding layer:\n",
        "* Create a [`tf.contrib.seq2seq.TrainingHelper`](https://www.tensorflow.org/api_docs/python/tf/contrib/seq2seq/TrainingHelper) \n",
        "* Create a [`tf.contrib.seq2seq.BasicDecoder`](https://www.tensorflow.org/api_docs/python/tf/contrib/seq2seq/BasicDecoder)\n",
        "* Obtain the decoder outputs from [`tf.contrib.seq2seq.dynamic_decode`](https://www.tensorflow.org/api_docs/python/tf/contrib/seq2seq/dynamic_decode)"
      ]
    },
    {
      "cell_type": "code",
      "metadata": {
        "id": "-TnULEBFQ50p",
        "colab_type": "code",
        "colab": {
          "base_uri": "https://localhost:8080/",
          "height": 34
        },
        "outputId": "8bcf5359-6e34-4377-a8d3-298445da3201"
      },
      "source": [
        "def decoding_layer_train(encoder_state, dec_cell, dec_embed_input, \n",
        "                         target_sequence_length, max_summary_length, \n",
        "                         output_layer, keep_prob):\n",
        "    \"\"\"\n",
        "    Create a decoding layer for training\n",
        "    :param encoder_state: Encoder State\n",
        "    :param dec_cell: Decoder RNN Cell\n",
        "    :param dec_embed_input: Decoder embedded input\n",
        "    :param target_sequence_length: The lengths of each sequence in the target batch\n",
        "    :param max_summary_length: The length of the longest sequence in the batch\n",
        "    :param output_layer: Function to apply the output layer\n",
        "    :param keep_prob: Dropout keep probability\n",
        "    :return: BasicDecoderOutput containing training logits and sample_id\n",
        "    \"\"\"\n",
        "    # TODO: Implement Function\n",
        "    dec_drop = tf.contrib.rnn.DropoutWrapper(dec_cell,output_keep_prob=keep_prob)\n",
        "    helper = tf.contrib.seq2seq.TrainingHelper(dec_embed_input,target_sequence_length,time_major=False)\n",
        "    decoder = tf.contrib.seq2seq.BasicDecoder(dec_drop,helper,encoder_state,output_layer)\n",
        "    output = tf.contrib.seq2seq.dynamic_decode(decoder,impute_finished=True,maximum_iterations=max_summary_length)[0]\n",
        "    return output\n",
        "\n",
        "tests.test_decoding_layer_train(decoding_layer_train)"
      ],
      "execution_count": 15,
      "outputs": [
        {
          "output_type": "stream",
          "text": [
            "Tests Passed\n"
          ],
          "name": "stdout"
        }
      ]
    },
    {
      "cell_type": "markdown",
      "metadata": {
        "id": "JMYBCkzHQ50s",
        "colab_type": "text"
      },
      "source": [
        "### Decoding - Inference\n",
        "Create inference decoder:\n",
        "* Create a [`tf.contrib.seq2seq.GreedyEmbeddingHelper`](https://www.tensorflow.org/api_docs/python/tf/contrib/seq2seq/GreedyEmbeddingHelper)\n",
        "* Create a [`tf.contrib.seq2seq.BasicDecoder`](https://www.tensorflow.org/api_docs/python/tf/contrib/seq2seq/BasicDecoder)\n",
        "* Obtain the decoder outputs from [`tf.contrib.seq2seq.dynamic_decode`](https://www.tensorflow.org/api_docs/python/tf/contrib/seq2seq/dynamic_decode)"
      ]
    },
    {
      "cell_type": "code",
      "metadata": {
        "scrolled": true,
        "id": "FN0mwgxoQ50t",
        "colab_type": "code",
        "colab": {
          "base_uri": "https://localhost:8080/",
          "height": 34
        },
        "outputId": "985cebee-a15b-4b76-daf0-36d603c2556a"
      },
      "source": [
        "def decoding_layer_infer(encoder_state, dec_cell, dec_embeddings, start_of_sequence_id,\n",
        "                         end_of_sequence_id, max_target_sequence_length,\n",
        "                         vocab_size, output_layer, batch_size, keep_prob):\n",
        "    \"\"\"\n",
        "    Create a decoding layer for inference\n",
        "    :param encoder_state: Encoder state\n",
        "    :param dec_cell: Decoder RNN Cell\n",
        "    :param dec_embeddings: Decoder embeddings\n",
        "    :param start_of_sequence_id: GO ID\n",
        "    :param end_of_sequence_id: EOS Id\n",
        "    :param max_target_sequence_length: Maximum length of target sequences\n",
        "    :param vocab_size: Size of decoder/target vocabulary\n",
        "    :param decoding_scope: TenorFlow Variable Scope for decoding\n",
        "    :param output_layer: Function to apply the output layer\n",
        "    :param batch_size: Batch size\n",
        "    :param keep_prob: Dropout keep probability\n",
        "    :return: BasicDecoderOutput containing inference logits and sample_id\n",
        "    \"\"\"\n",
        "    # TODO: Implement Function\n",
        "    start_tokens = tf.tile(tf.constant([start_of_sequence_id],dtype=tf.int32),[batch_size],name=\"start_tokens\")\n",
        "    dec_drop = tf.contrib.rnn.DropoutWrapper(dec_cell,output_keep_prob=keep_prob)\n",
        "    helper = tf.contrib.seq2seq.GreedyEmbeddingHelper(dec_embeddings,start_tokens,end_of_sequence_id)\n",
        "    decoder = tf.contrib.seq2seq.BasicDecoder(dec_cell,helper,encoder_state,output_layer)\n",
        "    output = tf.contrib.seq2seq.dynamic_decode(decoder,impute_finished=True,maximum_iterations=max_target_sequence_length)[0]\n",
        "    return output\n",
        "\n",
        "tests.test_decoding_layer_infer(decoding_layer_infer)"
      ],
      "execution_count": 17,
      "outputs": [
        {
          "output_type": "stream",
          "text": [
            "Tests Passed\n"
          ],
          "name": "stdout"
        }
      ]
    },
    {
      "cell_type": "markdown",
      "metadata": {
        "id": "DZaIRN-DQ50v",
        "colab_type": "text"
      },
      "source": [
        "### Build the Decoding Layer\n",
        "Implement `decoding_layer()` to create a Decoder RNN layer.\n",
        "\n",
        "* Embed the target sequences\n",
        "* Construct the decoder LSTM cell (just like you constructed the encoder cell above)\n",
        "* Create an output layer to map the outputs of the decoder to the elements of our vocabulary\n",
        "* Use the your `decoding_layer_train(encoder_state, dec_cell, dec_embed_input, target_sequence_length, max_target_sequence_length, output_layer, keep_prob)` function to get the training logits.\n",
        "* Use your `decoding_layer_infer(encoder_state, dec_cell, dec_embeddings, start_of_sequence_id, end_of_sequence_id, max_target_sequence_length, vocab_size, output_layer, batch_size, keep_prob)` function to get the inference logits.\n",
        "\n",
        "Note: You'll need to use [tf.variable_scope](https://www.tensorflow.org/api_docs/python/tf/variable_scope) to share variables between training and inference."
      ]
    },
    {
      "cell_type": "code",
      "metadata": {
        "id": "GHsyA2JrQ50w",
        "colab_type": "code",
        "colab": {
          "base_uri": "https://localhost:8080/",
          "height": 34
        },
        "outputId": "c5e73bd5-2be6-4372-aff0-57ceaf4ec76d"
      },
      "source": [
        "def decoding_layer(dec_input, encoder_state,target_sequence_length, max_target_sequence_length,\n",
        "                   rnn_size,num_layers, target_vocab_to_int, target_vocab_size,\n",
        "                   batch_size, keep_prob, decoding_embedding_size):\n",
        "    \"\"\"\n",
        "    Create decoding layer\n",
        "    :param dec_input: Decoder input\n",
        "    :param encoder_state: Encoder state\n",
        "    :param target_sequence_length: The lengths of each sequence in the target batch\n",
        "    :param max_target_sequence_length: Maximum length of target sequences\n",
        "    :param rnn_size: RNN Size\n",
        "    :param num_layers: Number of layers\n",
        "    :param target_vocab_to_int: Dictionary to go from the target words to an id\n",
        "    :param target_vocab_size: Size of target vocabulary\n",
        "    :param batch_size: The size of the batch\n",
        "    :param keep_prob: Dropout keep probability\n",
        "    :param decoding_embedding_size: Decoding embedding size\n",
        "    :return: Tuple of (Training BasicDecoderOutput, Inference BasicDecoderOutput)\n",
        "    \"\"\"\n",
        "    # TODO: Implement Function\n",
        "    # Decoder embedding\n",
        "    decode_embed_matrix =  tf.Variable(tf.random_uniform([target_vocab_size,decoding_embedding_size],-1,1))\n",
        "    decode_input = tf.nn.embedding_lookup(decode_embed_matrix,dec_input)\n",
        "\n",
        "    # Construct the decoder cell\n",
        "    def build_cell(rnn_size,keep_prob):\n",
        "      basic_cell = tf.contrib.rnn.LSTMCell(rnn_size,initializer=tf.random_uniform_initializer(-0.1, 0.1, seed=2))\n",
        "      drop = tf.contrib.rnn.DropoutWrapper(basic_cell,output_keep_prob=keep_prob)\n",
        "      return drop\n",
        "    cell = tf.contrib.rnn.MultiRNNCell([build_cell(rnn_size,keep_prob) for _ in range(num_layers)])\n",
        "\n",
        "    # Dense layer to translate the decoder's output at each time step into a choice from the target vocabulary\n",
        "    output_layer = Dense(target_vocab_size,kernel_initializer = tf.truncated_normal_initializer(stddev=0.1))\n",
        "\n",
        "    # Set up training decoder\n",
        "    with tf.variable_scope(\"decode\") as decoding_scope:\n",
        "      training_decoder_output = decoding_layer_train(encoder_state, cell, decode_input, target_sequence_length, max_target_sequence_length, output_layer, keep_prob)\n",
        "\n",
        "    # Set up inference decoder\n",
        "    with tf.variable_scope(\"decode\",reuse=True):\n",
        "      start_of_sequence_id = target_vocab_to_int['<GO>']\n",
        "      end_of_sequence_id = target_vocab_to_int['<EOS>']\n",
        "      inference_decoder_output = decoding_layer_infer(encoder_state,cell,decode_embed_matrix,start_of_sequence_id,\n",
        "                                                       end_of_sequence_id,max_target_sequence_length,target_vocab_size,output_layer,batch_size,keep_prob)\n",
        "\n",
        "    return training_decoder_output, inference_decoder_output\n",
        "\n",
        "tests.test_decoding_layer(decoding_layer)"
      ],
      "execution_count": 18,
      "outputs": [
        {
          "output_type": "stream",
          "text": [
            "Tests Passed\n"
          ],
          "name": "stdout"
        }
      ]
    },
    {
      "cell_type": "markdown",
      "metadata": {
        "id": "xo39IBA3Q50y",
        "colab_type": "text"
      },
      "source": [
        "### Build the Neural Network\n",
        "Apply the functions you implemented above to:\n",
        "\n",
        "- Encode the input using your `encoding_layer(rnn_inputs, rnn_size, num_layers, keep_prob,  source_sequence_length, source_vocab_size, encoding_embedding_size)`.\n",
        "- Process target data using your `process_decoder_input(target_data, target_vocab_to_int, batch_size)` function.\n",
        "- Decode the encoded input using your `decoding_layer(dec_input, enc_state, target_sequence_length, max_target_sentence_length, rnn_size, num_layers, target_vocab_to_int, target_vocab_size, batch_size, keep_prob, dec_embedding_size)` function."
      ]
    },
    {
      "cell_type": "code",
      "metadata": {
        "id": "XiEBfYSMQ50y",
        "colab_type": "code",
        "colab": {
          "base_uri": "https://localhost:8080/",
          "height": 34
        },
        "outputId": "b8dabfbb-970b-4791-d910-f2c995160898"
      },
      "source": [
        "def seq2seq_model(input_data, target_data, keep_prob, batch_size,source_sequence_length, target_sequence_length,\n",
        "                  max_target_sequence_length, source_vocab_size, target_vocab_size,\n",
        "                  enc_embedding_size, dec_embedding_size, rnn_size, num_layers, target_vocab_to_int):\n",
        "    \"\"\"\n",
        "    Build the Sequence-to-Sequence part of the neural network\n",
        "    :param input_data: Input placeholder\n",
        "    :param target_data: Target placeholder\n",
        "    :param keep_prob: Dropout keep probability placeholder\n",
        "    :param batch_size: Batch Size\n",
        "    :param source_sequence_length: Sequence Lengths of source sequences in the batch\n",
        "    :param target_sequence_length: Sequence Lengths of target sequences in the batch\n",
        "    :param source_vocab_size: Source vocabulary size\n",
        "    :param target_vocab_size: Target vocabulary size\n",
        "    :param enc_embedding_size: Decoder embedding size\n",
        "    :param dec_embedding_size: Encoder embedding size\n",
        "    :param rnn_size: RNN Size\n",
        "    :param num_layers: Number of layers\n",
        "    :param target_vocab_to_int: Dictionary to go from the target words to an id\n",
        "    :return: Tuple of (Training BasicDecoderOutput, Inference BasicDecoderOutput)\n",
        "    \"\"\"\n",
        "    # TODO: Implement Function\n",
        "    # Pass the input data through the encoder.\n",
        "    _,encode_state = encoding_layer(input_data,rnn_size,num_layers,keep_prob,source_sequence_length,source_vocab_size,enc_embedding_size)\n",
        "\n",
        "    # Prepare the target sequences we'll feed to the decoder in training mode\n",
        "    dec_input = process_decoder_input(target_data,target_vocab_to_int,batch_size)\n",
        "\n",
        "    # Pass encoder state and decoder inputs to the decoders\n",
        "    training_decoder_output, inference_decoder_output = decoding_layer(dec_input,encode_state,target_sequence_length,max_target_sequence_length,rnn_size,num_layers,target_vocab_to_int,target_vocab_size,batch_size,keep_prob,dec_embedding_size)\n",
        "\n",
        "    return training_decoder_output, inference_decoder_output\n",
        "\n",
        "tests.test_seq2seq_model(seq2seq_model)"
      ],
      "execution_count": 19,
      "outputs": [
        {
          "output_type": "stream",
          "text": [
            "Tests Passed\n"
          ],
          "name": "stdout"
        }
      ]
    },
    {
      "cell_type": "markdown",
      "metadata": {
        "id": "GSliA1TmQ501",
        "colab_type": "text"
      },
      "source": [
        "## Neural Network Training\n",
        "### Hyperparameters\n",
        "Tune the following parameters:\n",
        "\n",
        "- Set `epochs` to the number of epochs.\n",
        "- Set `batch_size` to the batch size.\n",
        "- Set `rnn_size` to the size of the RNNs.\n",
        "- Set `num_layers` to the number of layers.\n",
        "- Set `encoding_embedding_size` to the size of the embedding for the encoder.\n",
        "- Set `decoding_embedding_size` to the size of the embedding for the decoder.\n",
        "- Set `learning_rate` to the learning rate.\n",
        "- Set `keep_probability` to the Dropout keep probability\n",
        "- Set `display_step` to state how many steps between each debug output statement"
      ]
    },
    {
      "cell_type": "code",
      "metadata": {
        "id": "-8MgSq3BQ501",
        "colab_type": "code",
        "colab": {}
      },
      "source": [
        "# Number of Epochs\n",
        "epochs = 10\n",
        "# Batch Size\n",
        "batch_size = 128\n",
        "# RNN Size\n",
        "rnn_size = 50\n",
        "# Number of Layers\n",
        "num_layers = 2\n",
        "# Embedding Size\n",
        "encoding_embedding_size = 15\n",
        "decoding_embedding_size = 15\n",
        "# Learning Rate\n",
        "learning_rate = 0.001\n",
        "# Dropout Keep Probability\n",
        "keep_probability = 0.8\n",
        "display_step = 100"
      ],
      "execution_count": 26,
      "outputs": []
    },
    {
      "cell_type": "markdown",
      "metadata": {
        "id": "FmIWy7X-Q504",
        "colab_type": "text"
      },
      "source": [
        "### Build the Graph\n",
        "Build the graph using the neural network you implemented."
      ]
    },
    {
      "cell_type": "code",
      "metadata": {
        "id": "fwpbB3EsQ504",
        "colab_type": "code",
        "colab": {}
      },
      "source": [
        "save_path = 'checkpoints/dev'\n",
        "(source_int_text, target_int_text), (source_vocab_to_int, target_vocab_to_int), _ = helper.load_preprocess()\n",
        "max_target_sentence_length = max([len(sentence) for sentence in source_int_text])\n",
        "\n",
        "train_graph = tf.Graph()\n",
        "with train_graph.as_default():\n",
        "    input_data, targets, lr, keep_prob, target_sequence_length, max_target_sequence_length, source_sequence_length = model_inputs()\n",
        "\n",
        "    #sequence_length = tf.placeholder_with_default(max_target_sentence_length, None, name='sequence_length')\n",
        "    input_shape = tf.shape(input_data)\n",
        "\n",
        "    train_logits, inference_logits = seq2seq_model(tf.reverse(input_data, [-1]),\n",
        "                                                   targets,\n",
        "                                                   keep_prob,\n",
        "                                                   batch_size,\n",
        "                                                   source_sequence_length,\n",
        "                                                   target_sequence_length,\n",
        "                                                   max_target_sequence_length,\n",
        "                                                   len(source_vocab_to_int),\n",
        "                                                   len(target_vocab_to_int),\n",
        "                                                   encoding_embedding_size,\n",
        "                                                   decoding_embedding_size,\n",
        "                                                   rnn_size,\n",
        "                                                   num_layers,\n",
        "                                                   target_vocab_to_int)\n",
        "\n",
        "\n",
        "    training_logits = tf.identity(train_logits.rnn_output, name='logits')\n",
        "    inference_logits = tf.identity(inference_logits.sample_id, name='predictions')\n",
        "\n",
        "    masks = tf.sequence_mask(target_sequence_length, max_target_sequence_length, dtype=tf.float32, name='masks')\n",
        "\n",
        "    with tf.name_scope(\"optimization\"):\n",
        "        # Loss function\n",
        "        cost = tf.contrib.seq2seq.sequence_loss(\n",
        "            training_logits,\n",
        "            targets,\n",
        "            masks)\n",
        "\n",
        "        # Optimizer\n",
        "        optimizer = tf.train.AdamOptimizer(lr)\n",
        "\n",
        "        # Gradient Clipping\n",
        "        gradients = optimizer.compute_gradients(cost)\n",
        "        capped_gradients = [(tf.clip_by_value(grad, -1., 1.), var) for grad, var in gradients if grad is not None]\n",
        "        train_op = optimizer.apply_gradients(capped_gradients)\n"
      ],
      "execution_count": 21,
      "outputs": []
    },
    {
      "cell_type": "markdown",
      "metadata": {
        "id": "rU7efRb8Q507",
        "colab_type": "text"
      },
      "source": [
        "Batch and pad the source and target sequences"
      ]
    },
    {
      "cell_type": "code",
      "metadata": {
        "id": "Wnv5uaVyQ507",
        "colab_type": "code",
        "colab": {}
      },
      "source": [
        "def pad_sentence_batch(sentence_batch, pad_int):\n",
        "    \"\"\"Pad sentences with <PAD> so that each sentence of a batch has the same length\"\"\"\n",
        "    max_sentence = max([len(sentence) for sentence in sentence_batch])\n",
        "    return [sentence + [pad_int] * (max_sentence - len(sentence)) for sentence in sentence_batch]\n",
        "\n",
        "\n",
        "def get_batches(sources, targets, batch_size, source_pad_int, target_pad_int):\n",
        "    \"\"\"Batch targets, sources, and the lengths of their sentences together\"\"\"\n",
        "    for batch_i in range(0, len(sources)//batch_size):\n",
        "        start_i = batch_i * batch_size\n",
        "\n",
        "        # Slice the right amount for the batch\n",
        "        sources_batch = sources[start_i:start_i + batch_size]\n",
        "        targets_batch = targets[start_i:start_i + batch_size]\n",
        "\n",
        "        # Pad\n",
        "        pad_sources_batch = np.array(pad_sentence_batch(sources_batch, source_pad_int))\n",
        "        pad_targets_batch = np.array(pad_sentence_batch(targets_batch, target_pad_int))\n",
        "\n",
        "        # Need the lengths for the _lengths parameters\n",
        "        pad_targets_lengths = []\n",
        "        for target in pad_targets_batch:\n",
        "            pad_targets_lengths.append(len(target))\n",
        "\n",
        "        pad_source_lengths = []\n",
        "        for source in pad_sources_batch:\n",
        "            pad_source_lengths.append(len(source))\n",
        "\n",
        "        yield pad_sources_batch, pad_targets_batch, pad_source_lengths, pad_targets_lengths\n"
      ],
      "execution_count": 22,
      "outputs": []
    },
    {
      "cell_type": "markdown",
      "metadata": {
        "id": "yG3d2E40Q50-",
        "colab_type": "text"
      },
      "source": [
        "### Train\n",
        "Train the neural network on the preprocessed data. If you have a hard time getting a good loss, check the forms to see if anyone is having the same problem."
      ]
    },
    {
      "cell_type": "code",
      "metadata": {
        "scrolled": true,
        "id": "LNt5zOHbQ50-",
        "colab_type": "code",
        "colab": {
          "base_uri": "https://localhost:8080/",
          "height": 1000
        },
        "outputId": "4919734d-2035-4814-f5d6-8d24ee8f092a"
      },
      "source": [
        "def get_accuracy(target, logits):\n",
        "    \"\"\"\n",
        "    Calculate accuracy\n",
        "    \"\"\"\n",
        "    max_seq = max(target.shape[1], logits.shape[1])\n",
        "    if max_seq - target.shape[1]:\n",
        "        target = np.pad(\n",
        "            target,\n",
        "            [(0,0),(0,max_seq - target.shape[1])],\n",
        "            'constant')\n",
        "    if max_seq - logits.shape[1]:\n",
        "        logits = np.pad(\n",
        "            logits,\n",
        "            [(0,0),(0,max_seq - logits.shape[1])],\n",
        "            'constant')\n",
        "\n",
        "    return np.mean(np.equal(target, logits))\n",
        "\n",
        "# Split data to training and validation sets\n",
        "train_source = source_int_text[batch_size:]\n",
        "train_target = target_int_text[batch_size:]\n",
        "valid_source = source_int_text[:batch_size]\n",
        "valid_target = target_int_text[:batch_size]\n",
        "(valid_sources_batch, valid_targets_batch, valid_sources_lengths, valid_targets_lengths ) = next(get_batches(valid_source,\n",
        "                                                                                                             valid_target,\n",
        "                                                                                                             batch_size,\n",
        "                                                                                                             source_vocab_to_int['<PAD>'],\n",
        "                                                                                                             target_vocab_to_int['<PAD>']))                                                                                                  \n",
        "with tf.Session(graph=train_graph) as sess:\n",
        "    sess.run(tf.global_variables_initializer())\n",
        "\n",
        "    for epoch_i in range(epochs):\n",
        "        for batch_i, (source_batch, target_batch, sources_lengths, targets_lengths) in enumerate(\n",
        "                get_batches(train_source, train_target, batch_size,\n",
        "                            source_vocab_to_int['<PAD>'],\n",
        "                            target_vocab_to_int['<PAD>'])):\n",
        "\n",
        "            _, loss = sess.run(\n",
        "                [train_op, cost],\n",
        "                {input_data: source_batch,\n",
        "                 targets: target_batch,\n",
        "                 lr: learning_rate,\n",
        "                 target_sequence_length: targets_lengths,\n",
        "                 source_sequence_length: sources_lengths,\n",
        "                 keep_prob: keep_probability})\n",
        "\n",
        "\n",
        "            if batch_i % display_step == 0 and batch_i > 0:\n",
        "\n",
        "\n",
        "                batch_train_logits = sess.run(\n",
        "                    inference_logits,\n",
        "                    {input_data: source_batch,\n",
        "                     source_sequence_length: sources_lengths,\n",
        "                     target_sequence_length: targets_lengths,\n",
        "                     keep_prob: 1.0})\n",
        "\n",
        "\n",
        "                batch_valid_logits = sess.run(\n",
        "                    inference_logits,\n",
        "                    {input_data: valid_sources_batch,\n",
        "                     source_sequence_length: valid_sources_lengths,\n",
        "                     target_sequence_length: valid_targets_lengths,\n",
        "                     keep_prob: 1.0})\n",
        "\n",
        "                train_acc = get_accuracy(target_batch, batch_train_logits)\n",
        "\n",
        "                valid_acc = get_accuracy(valid_targets_batch, batch_valid_logits)\n",
        "\n",
        "                print('Epoch {:>3} Batch {:>4}/{} - Train Accuracy: {:>6.4f}, Validation Accuracy: {:>6.4f}, Loss: {:>6.4f}'\n",
        "                      .format(epoch_i, batch_i, len(source_int_text) // batch_size, train_acc, valid_acc, loss))\n",
        "\n",
        "    # Save Model\n",
        "    saver = tf.train.Saver()\n",
        "    saver.save(sess, save_path)\n",
        "    print('Model Trained and Saved')"
      ],
      "execution_count": 27,
      "outputs": [
        {
          "output_type": "stream",
          "text": [
            "Epoch   0 Batch  100/1077 - Train Accuracy: 0.3219, Validation Accuracy: 0.3857, Loss: 3.2671\n",
            "Epoch   0 Batch  200/1077 - Train Accuracy: 0.3754, Validation Accuracy: 0.4350, Loss: 2.8858\n",
            "Epoch   0 Batch  300/1077 - Train Accuracy: 0.3898, Validation Accuracy: 0.4727, Loss: 2.7286\n",
            "Epoch   0 Batch  400/1077 - Train Accuracy: 0.4203, Validation Accuracy: 0.4837, Loss: 2.4096\n",
            "Epoch   0 Batch  500/1077 - Train Accuracy: 0.4613, Validation Accuracy: 0.5011, Loss: 2.1215\n",
            "Epoch   0 Batch  600/1077 - Train Accuracy: 0.4334, Validation Accuracy: 0.4595, Loss: 1.8383\n",
            "Epoch   0 Batch  700/1077 - Train Accuracy: 0.4008, Validation Accuracy: 0.4435, Loss: 1.6908\n",
            "Epoch   0 Batch  800/1077 - Train Accuracy: 0.3777, Validation Accuracy: 0.4354, Loss: 1.5748\n",
            "Epoch   0 Batch  900/1077 - Train Accuracy: 0.2844, Validation Accuracy: 0.3161, Loss: 1.4874\n",
            "Epoch   0 Batch 1000/1077 - Train Accuracy: 0.3940, Validation Accuracy: 0.4080, Loss: 1.2783\n",
            "Epoch   1 Batch  100/1077 - Train Accuracy: 0.4383, Validation Accuracy: 0.4950, Loss: 1.2028\n",
            "Epoch   1 Batch  200/1077 - Train Accuracy: 0.4527, Validation Accuracy: 0.5227, Loss: 1.1732\n",
            "Epoch   1 Batch  300/1077 - Train Accuracy: 0.4478, Validation Accuracy: 0.5252, Loss: 1.1554\n",
            "Epoch   1 Batch  400/1077 - Train Accuracy: 0.4441, Validation Accuracy: 0.5103, Loss: 1.0615\n",
            "Epoch   1 Batch  500/1077 - Train Accuracy: 0.5039, Validation Accuracy: 0.5273, Loss: 1.0107\n",
            "Epoch   1 Batch  600/1077 - Train Accuracy: 0.5406, Validation Accuracy: 0.5554, Loss: 0.9616\n",
            "Epoch   1 Batch  700/1077 - Train Accuracy: 0.5258, Validation Accuracy: 0.5653, Loss: 0.9294\n",
            "Epoch   1 Batch  800/1077 - Train Accuracy: 0.4719, Validation Accuracy: 0.5455, Loss: 0.9309\n",
            "Epoch   1 Batch  900/1077 - Train Accuracy: 0.5008, Validation Accuracy: 0.5746, Loss: 0.9490\n",
            "Epoch   1 Batch 1000/1077 - Train Accuracy: 0.5785, Validation Accuracy: 0.5781, Loss: 0.8531\n",
            "Epoch   2 Batch  100/1077 - Train Accuracy: 0.5691, Validation Accuracy: 0.5906, Loss: 0.8784\n",
            "Epoch   2 Batch  200/1077 - Train Accuracy: 0.5059, Validation Accuracy: 0.5749, Loss: 0.8730\n",
            "Epoch   2 Batch  300/1077 - Train Accuracy: 0.5095, Validation Accuracy: 0.5778, Loss: 0.8659\n",
            "Epoch   2 Batch  400/1077 - Train Accuracy: 0.5582, Validation Accuracy: 0.5835, Loss: 0.8167\n",
            "Epoch   2 Batch  500/1077 - Train Accuracy: 0.5566, Validation Accuracy: 0.5856, Loss: 0.7884\n",
            "Epoch   2 Batch  600/1077 - Train Accuracy: 0.5815, Validation Accuracy: 0.5923, Loss: 0.7476\n",
            "Epoch   2 Batch  700/1077 - Train Accuracy: 0.5414, Validation Accuracy: 0.5721, Loss: 0.7628\n",
            "Epoch   2 Batch  800/1077 - Train Accuracy: 0.5629, Validation Accuracy: 0.5980, Loss: 0.7777\n",
            "Epoch   2 Batch  900/1077 - Train Accuracy: 0.5516, Validation Accuracy: 0.6005, Loss: 0.7758\n",
            "Epoch   2 Batch 1000/1077 - Train Accuracy: 0.6094, Validation Accuracy: 0.6115, Loss: 0.6944\n",
            "Epoch   3 Batch  100/1077 - Train Accuracy: 0.6016, Validation Accuracy: 0.6200, Loss: 0.7450\n",
            "Epoch   3 Batch  200/1077 - Train Accuracy: 0.5707, Validation Accuracy: 0.6136, Loss: 0.7275\n",
            "Epoch   3 Batch  300/1077 - Train Accuracy: 0.5917, Validation Accuracy: 0.6261, Loss: 0.7268\n",
            "Epoch   3 Batch  400/1077 - Train Accuracy: 0.5965, Validation Accuracy: 0.6250, Loss: 0.6998\n",
            "Epoch   3 Batch  500/1077 - Train Accuracy: 0.5973, Validation Accuracy: 0.6282, Loss: 0.6654\n",
            "Epoch   3 Batch  600/1077 - Train Accuracy: 0.6179, Validation Accuracy: 0.6286, Loss: 0.6336\n",
            "Epoch   3 Batch  700/1077 - Train Accuracy: 0.5883, Validation Accuracy: 0.6342, Loss: 0.6489\n",
            "Epoch   3 Batch  800/1077 - Train Accuracy: 0.5965, Validation Accuracy: 0.6342, Loss: 0.6661\n",
            "Epoch   3 Batch  900/1077 - Train Accuracy: 0.6145, Validation Accuracy: 0.6332, Loss: 0.6581\n",
            "Epoch   3 Batch 1000/1077 - Train Accuracy: 0.6641, Validation Accuracy: 0.6371, Loss: 0.5766\n",
            "Epoch   4 Batch  100/1077 - Train Accuracy: 0.6324, Validation Accuracy: 0.6420, Loss: 0.6303\n",
            "Epoch   4 Batch  200/1077 - Train Accuracy: 0.6004, Validation Accuracy: 0.6289, Loss: 0.6370\n",
            "Epoch   4 Batch  300/1077 - Train Accuracy: 0.6197, Validation Accuracy: 0.6399, Loss: 0.6293\n",
            "Epoch   4 Batch  400/1077 - Train Accuracy: 0.6367, Validation Accuracy: 0.6286, Loss: 0.6077\n",
            "Epoch   4 Batch  500/1077 - Train Accuracy: 0.6121, Validation Accuracy: 0.6317, Loss: 0.6049\n",
            "Epoch   4 Batch  600/1077 - Train Accuracy: 0.6406, Validation Accuracy: 0.6364, Loss: 0.5589\n",
            "Epoch   4 Batch  700/1077 - Train Accuracy: 0.5988, Validation Accuracy: 0.6403, Loss: 0.5804\n",
            "Epoch   4 Batch  800/1077 - Train Accuracy: 0.6078, Validation Accuracy: 0.6307, Loss: 0.5797\n",
            "Epoch   4 Batch  900/1077 - Train Accuracy: 0.6238, Validation Accuracy: 0.6477, Loss: 0.5810\n",
            "Epoch   4 Batch 1000/1077 - Train Accuracy: 0.6838, Validation Accuracy: 0.6499, Loss: 0.5116\n",
            "Epoch   5 Batch  100/1077 - Train Accuracy: 0.6445, Validation Accuracy: 0.6541, Loss: 0.5613\n",
            "Epoch   5 Batch  200/1077 - Train Accuracy: 0.6062, Validation Accuracy: 0.6548, Loss: 0.5621\n",
            "Epoch   5 Batch  300/1077 - Train Accuracy: 0.6357, Validation Accuracy: 0.6513, Loss: 0.5603\n",
            "Epoch   5 Batch  400/1077 - Train Accuracy: 0.6484, Validation Accuracy: 0.6555, Loss: 0.5563\n",
            "Epoch   5 Batch  500/1077 - Train Accuracy: 0.6234, Validation Accuracy: 0.6538, Loss: 0.5316\n",
            "Epoch   5 Batch  600/1077 - Train Accuracy: 0.6574, Validation Accuracy: 0.6566, Loss: 0.5018\n",
            "Epoch   5 Batch  700/1077 - Train Accuracy: 0.6070, Validation Accuracy: 0.6573, Loss: 0.5184\n",
            "Epoch   5 Batch  800/1077 - Train Accuracy: 0.6219, Validation Accuracy: 0.6587, Loss: 0.5354\n",
            "Epoch   5 Batch  900/1077 - Train Accuracy: 0.6324, Validation Accuracy: 0.6513, Loss: 0.5378\n",
            "Epoch   5 Batch 1000/1077 - Train Accuracy: 0.6987, Validation Accuracy: 0.6637, Loss: 0.4768\n",
            "Epoch   6 Batch  100/1077 - Train Accuracy: 0.6473, Validation Accuracy: 0.6605, Loss: 0.5163\n",
            "Epoch   6 Batch  200/1077 - Train Accuracy: 0.6031, Validation Accuracy: 0.6509, Loss: 0.5280\n",
            "Epoch   6 Batch  300/1077 - Train Accuracy: 0.6402, Validation Accuracy: 0.6516, Loss: 0.5102\n",
            "Epoch   6 Batch  400/1077 - Train Accuracy: 0.6648, Validation Accuracy: 0.6580, Loss: 0.5084\n",
            "Epoch   6 Batch  500/1077 - Train Accuracy: 0.6359, Validation Accuracy: 0.6651, Loss: 0.4861\n",
            "Epoch   6 Batch  600/1077 - Train Accuracy: 0.6778, Validation Accuracy: 0.6562, Loss: 0.4561\n",
            "Epoch   6 Batch  700/1077 - Train Accuracy: 0.6148, Validation Accuracy: 0.6577, Loss: 0.4812\n",
            "Epoch   6 Batch  800/1077 - Train Accuracy: 0.6309, Validation Accuracy: 0.6626, Loss: 0.4917\n",
            "Epoch   6 Batch  900/1077 - Train Accuracy: 0.6445, Validation Accuracy: 0.6623, Loss: 0.4956\n",
            "Epoch   6 Batch 1000/1077 - Train Accuracy: 0.7083, Validation Accuracy: 0.6673, Loss: 0.4327\n",
            "Epoch   7 Batch  100/1077 - Train Accuracy: 0.6520, Validation Accuracy: 0.6712, Loss: 0.4732\n",
            "Epoch   7 Batch  200/1077 - Train Accuracy: 0.6133, Validation Accuracy: 0.6602, Loss: 0.4883\n",
            "Epoch   7 Batch  300/1077 - Train Accuracy: 0.6451, Validation Accuracy: 0.6673, Loss: 0.4632\n",
            "Epoch   7 Batch  400/1077 - Train Accuracy: 0.6789, Validation Accuracy: 0.6623, Loss: 0.4806\n",
            "Epoch   7 Batch  500/1077 - Train Accuracy: 0.6379, Validation Accuracy: 0.6584, Loss: 0.4535\n",
            "Epoch   7 Batch  600/1077 - Train Accuracy: 0.6853, Validation Accuracy: 0.6580, Loss: 0.4373\n",
            "Epoch   7 Batch  700/1077 - Train Accuracy: 0.6191, Validation Accuracy: 0.6655, Loss: 0.4401\n",
            "Epoch   7 Batch  800/1077 - Train Accuracy: 0.6297, Validation Accuracy: 0.6683, Loss: 0.4495\n",
            "Epoch   7 Batch  900/1077 - Train Accuracy: 0.6738, Validation Accuracy: 0.6655, Loss: 0.4496\n",
            "Epoch   7 Batch 1000/1077 - Train Accuracy: 0.6990, Validation Accuracy: 0.6669, Loss: 0.4116\n",
            "Epoch   8 Batch  100/1077 - Train Accuracy: 0.6723, Validation Accuracy: 0.6712, Loss: 0.4418\n",
            "Epoch   8 Batch  200/1077 - Train Accuracy: 0.6203, Validation Accuracy: 0.6722, Loss: 0.4620\n",
            "Epoch   8 Batch  300/1077 - Train Accuracy: 0.6723, Validation Accuracy: 0.6744, Loss: 0.4494\n",
            "Epoch   8 Batch  400/1077 - Train Accuracy: 0.7008, Validation Accuracy: 0.6651, Loss: 0.4526\n",
            "Epoch   8 Batch  500/1077 - Train Accuracy: 0.6621, Validation Accuracy: 0.6729, Loss: 0.4353\n",
            "Epoch   8 Batch  600/1077 - Train Accuracy: 0.6953, Validation Accuracy: 0.6662, Loss: 0.4082\n",
            "Epoch   8 Batch  700/1077 - Train Accuracy: 0.6250, Validation Accuracy: 0.6829, Loss: 0.4253\n",
            "Epoch   8 Batch  800/1077 - Train Accuracy: 0.6496, Validation Accuracy: 0.6726, Loss: 0.4308\n",
            "Epoch   8 Batch  900/1077 - Train Accuracy: 0.6961, Validation Accuracy: 0.6932, Loss: 0.4366\n",
            "Epoch   8 Batch 1000/1077 - Train Accuracy: 0.7202, Validation Accuracy: 0.6921, Loss: 0.3934\n",
            "Epoch   9 Batch  100/1077 - Train Accuracy: 0.6969, Validation Accuracy: 0.6861, Loss: 0.4158\n",
            "Epoch   9 Batch  200/1077 - Train Accuracy: 0.6309, Validation Accuracy: 0.6836, Loss: 0.4208\n",
            "Epoch   9 Batch  300/1077 - Train Accuracy: 0.6846, Validation Accuracy: 0.6800, Loss: 0.4143\n",
            "Epoch   9 Batch  400/1077 - Train Accuracy: 0.7109, Validation Accuracy: 0.6786, Loss: 0.4335\n",
            "Epoch   9 Batch  500/1077 - Train Accuracy: 0.7086, Validation Accuracy: 0.6808, Loss: 0.3965\n",
            "Epoch   9 Batch  600/1077 - Train Accuracy: 0.6953, Validation Accuracy: 0.6818, Loss: 0.3779\n",
            "Epoch   9 Batch  700/1077 - Train Accuracy: 0.6582, Validation Accuracy: 0.6793, Loss: 0.4013\n",
            "Epoch   9 Batch  800/1077 - Train Accuracy: 0.6754, Validation Accuracy: 0.6882, Loss: 0.4117\n",
            "Epoch   9 Batch  900/1077 - Train Accuracy: 0.7180, Validation Accuracy: 0.6939, Loss: 0.4130\n",
            "Epoch   9 Batch 1000/1077 - Train Accuracy: 0.7556, Validation Accuracy: 0.7006, Loss: 0.3755\n",
            "Model Trained and Saved\n"
          ],
          "name": "stdout"
        }
      ]
    },
    {
      "cell_type": "markdown",
      "metadata": {
        "id": "LPZHQPZ2Q51B",
        "colab_type": "text"
      },
      "source": [
        "### Save Parameters\n",
        "Save the `batch_size` and `save_path` parameters for inference."
      ]
    },
    {
      "cell_type": "code",
      "metadata": {
        "id": "mFnBH26KQ51B",
        "colab_type": "code",
        "colab": {}
      },
      "source": [
        "# Save parameters for checkpoint\n",
        "helper.save_params(save_path)"
      ],
      "execution_count": 28,
      "outputs": []
    },
    {
      "cell_type": "markdown",
      "metadata": {
        "id": "a3h1AsDxQ51D",
        "colab_type": "text"
      },
      "source": [
        "# Checkpoint"
      ]
    },
    {
      "cell_type": "code",
      "metadata": {
        "id": "W2xkFoeEQ51E",
        "colab_type": "code",
        "colab": {}
      },
      "source": [
        "import tensorflow as tf\n",
        "import numpy as np\n",
        "import sample_data.helper as helper\n",
        "import sample_data.problem_unittests as tests\n",
        "\n",
        "_, (source_vocab_to_int, target_vocab_to_int), (source_int_to_vocab, target_int_to_vocab) = helper.load_preprocess()\n",
        "load_path = helper.load_params()"
      ],
      "execution_count": 30,
      "outputs": []
    },
    {
      "cell_type": "markdown",
      "metadata": {
        "id": "k7sohrX6Q51G",
        "colab_type": "text"
      },
      "source": [
        "## Sentence to Sequence\n",
        "To feed a sentence into the model for translation, you first need to preprocess it.  Implement the function `sentence_to_seq()` to preprocess new sentences.\n",
        "\n",
        "- Convert the sentence to lowercase\n",
        "- Convert words into ids using `vocab_to_int`\n",
        " - Convert words not in the vocabulary, to the `<UNK>` word id."
      ]
    },
    {
      "cell_type": "code",
      "metadata": {
        "id": "OHUzkJhqQ51G",
        "colab_type": "code",
        "colab": {
          "base_uri": "https://localhost:8080/",
          "height": 34
        },
        "outputId": "331ba607-bed8-4e67-8e75-45ff158bdef4"
      },
      "source": [
        "def sentence_to_seq(sentence, vocab_to_int):\n",
        "    \"\"\"\n",
        "    Convert a sentence to a sequence of ids\n",
        "    :param sentence: String\n",
        "    :param vocab_to_int: Dictionary to go from the words to an id\n",
        "    :return: List of word ids\n",
        "    \"\"\"\n",
        "    # TODO: Implement Function\n",
        "    sentence.lower()\n",
        "    list_id = [vocab_to_int[word] if word in vocab_to_int.keys() else vocab_to_int['<UNK>'] for word in sentence.split()]\n",
        "    return list_id\n",
        "\n",
        "tests.test_sentence_to_seq(sentence_to_seq)"
      ],
      "execution_count": 31,
      "outputs": [
        {
          "output_type": "stream",
          "text": [
            "Tests Passed\n"
          ],
          "name": "stdout"
        }
      ]
    },
    {
      "cell_type": "markdown",
      "metadata": {
        "id": "L7A3gKM5Q51I",
        "colab_type": "text"
      },
      "source": [
        "## Translate\n",
        "This will translate `translate_sentence` from English to French."
      ]
    },
    {
      "cell_type": "code",
      "metadata": {
        "id": "oH1jQQ0lQ51J",
        "colab_type": "code",
        "colab": {
          "base_uri": "https://localhost:8080/",
          "height": 151
        },
        "outputId": "840b5caf-d90b-4f8c-e438-20e16e2cd09d"
      },
      "source": [
        "translate_sentence = 'he saw a old yellow truck .'\n",
        "translate_sentence = sentence_to_seq(translate_sentence, source_vocab_to_int)\n",
        "\n",
        "loaded_graph = tf.Graph()\n",
        "with tf.Session(graph=loaded_graph) as sess:\n",
        "    # Load saved model\n",
        "    loader = tf.train.import_meta_graph(load_path + '.meta')\n",
        "    loader.restore(sess, load_path)\n",
        "\n",
        "    input_data = loaded_graph.get_tensor_by_name('input:0')\n",
        "    logits = loaded_graph.get_tensor_by_name('predictions:0')\n",
        "    target_sequence_length = loaded_graph.get_tensor_by_name('target_sequence_length:0')\n",
        "    source_sequence_length = loaded_graph.get_tensor_by_name('source_sequence_length:0')\n",
        "    keep_prob = loaded_graph.get_tensor_by_name('keep_prob:0')\n",
        "\n",
        "    translate_logits = sess.run(logits, {input_data: [translate_sentence]*batch_size,\n",
        "                                         target_sequence_length: [len(translate_sentence)*2]*batch_size,\n",
        "                                         source_sequence_length: [len(translate_sentence)]*batch_size,\n",
        "                                         keep_prob: 1.0})[0]\n",
        "\n",
        "print('Input')\n",
        "print('  Word Ids:      {}'.format([i for i in translate_sentence]))\n",
        "print('  English Words: {}'.format([source_int_to_vocab[i] for i in translate_sentence]))\n",
        "\n",
        "print('\\nPrediction')\n",
        "print('  Word Ids:      {}'.format([i for i in translate_logits]))\n",
        "print('  French Words: {}'.format(\" \".join([target_int_to_vocab[i] for i in translate_logits])))\n"
      ],
      "execution_count": 32,
      "outputs": [
        {
          "output_type": "stream",
          "text": [
            "INFO:tensorflow:Restoring parameters from checkpoints/dev\n",
            "Input\n",
            "  Word Ids:      [229, 110, 89, 59, 195, 192, 182]\n",
            "  English Words: ['he', 'saw', 'a', 'old', 'yellow', 'truck', '.']\n",
            "\n",
            "Prediction\n",
            "  Word Ids:      [128, 217, 328, 286, 208, 304, 78, 330, 1]\n",
            "  French Words: il a pas un vieux camion vert . <EOS>\n"
          ],
          "name": "stdout"
        }
      ]
    },
    {
      "cell_type": "markdown",
      "metadata": {
        "id": "bX1Pb7xeQ51M",
        "colab_type": "text"
      },
      "source": [
        "## Imperfect Translation\n",
        "You might notice that some sentences translate better than others.  Since the dataset you're using only has a vocabulary of 227 English words of the thousands that you use, you're only going to see good results using these words.  For this project, you don't need a perfect translation. However, if you want to create a better translation model, you'll need better data.\n",
        "\n",
        "You can train on the [WMT10 French-English corpus](http://www.statmt.org/wmt10/training-giga-fren.tar).  This dataset has more vocabulary and richer in topics discussed.  However, this will take you days to train, so make sure you've a GPU and the neural network is performing well on dataset we provided.  Just make sure you play with the WMT10 corpus after you've submitted this project."
      ]
    }
  ]
}
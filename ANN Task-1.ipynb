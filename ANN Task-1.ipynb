{
  "nbformat": 4,
  "nbformat_minor": 0,
  "metadata": {
    "colab": {
      "name": "Untitled1.ipynb",
      "provenance": [],
      "collapsed_sections": [],
      "authorship_tag": "ABX9TyMbtAN6abAGcR/47RpEwn5m",
      "include_colab_link": true
    },
    "kernelspec": {
      "name": "python3",
      "display_name": "Python 3"
    },
    "accelerator": "GPU"
  },
  "cells": [
    {
      "cell_type": "markdown",
      "metadata": {
        "id": "view-in-github",
        "colab_type": "text"
      },
      "source": [
        "<a href=\"https://colab.research.google.com/github/darshank528/Artificial-Neural-Network/blob/master/ANN%20Task-1.ipynb\" target=\"_parent\"><img src=\"https://colab.research.google.com/assets/colab-badge.svg\" alt=\"Open In Colab\"/></a>"
      ]
    },
    {
      "cell_type": "code",
      "metadata": {
        "id": "5gtOiGTJ4yMi",
        "colab_type": "code",
        "outputId": "e0ea4b71-32c6-4419-e150-6f81c27c0e25",
        "colab": {
          "base_uri": "https://localhost:8080/",
          "height": 267
        }
      },
      "source": [
        "import torch\n",
        "import torchvision\n",
        "import torchvision.datasets as datasets\n",
        "from torch.utils import data\n",
        "import torchvision.transforms as transforms\n",
        "import torch.nn as nn\n",
        "import matplotlib.pyplot as plt\n",
        "import torch.optim as optim\n",
        "\n",
        "#device configuration \n",
        "device=torch.device('cuda' if torch.cuda.is_available() else 'cpu')\n",
        "\n",
        "#loading and preparing data\n",
        "train_data = datasets.MNIST(r\"C:\\Users\\Darshan Khandelwal\\OneDrive\\Desktop\\MNIST\",download=True,transform=transforms.ToTensor(),train=True)\n",
        "test_data = datasets.MNIST(r\"C:\\Users\\Darshan Khandelwal\\OneDrive\\Desktop\\MNIST\",download=False,transform=transforms.ToTensor(),train=False)\n",
        "train_loader = data.DataLoader(dataset=train_data,batch_size=100,shuffle=True)\n",
        "test_loader = data.DataLoader(dataset=test_data,batch_size=100)\n",
        "\n",
        "#plotting some examples\n",
        "example = iter(train_loader)\n",
        "samples,labels = next(example)\n",
        "for i in range(6):\n",
        "  plt.subplot(2,3,i+1)\n",
        "  plt.imshow(samples[i,0])\n",
        "plt.show()\n",
        "\n"
      ],
      "execution_count": 2,
      "outputs": [
        {
          "output_type": "display_data",
          "data": {
            "image/png": "[encoded data removed]",
            "text/plain": [
              "<Figure size 432x288 with 6 Axes>"
            ]
          },
          "metadata": {
            "tags": [],
            "needs_background": "light"
          }
        }
      ]
    },
    {
      "cell_type": "code",
      "metadata": {
        "id": "1bjkYAr9_TR_",
        "colab_type": "code",
        "outputId": "b56b1ac6-1bcd-463f-b974-e99c6f1dd1ab",
        "colab": {
          "base_uri": "https://localhost:8080/",
          "height": 463
        }
      },
      "source": [
        "#defining the proposed model\n",
        "class classifier(nn.Module):\n",
        "  def __init__(self):\n",
        "    super(classifier,self).__init__()\n",
        "    self.conv1 = nn.Conv2d(1,32,3)\n",
        "    self.conv2 = nn.Conv2d(32,64,3)\n",
        "    self.pool = nn.MaxPool2d(2,2)\n",
        "    self.drop1 = nn.Dropout(p=0.25)\n",
        "    self.fc1 = nn.Linear(12*12*64,128)\n",
        "    self.drop2 = nn.Dropout(p=0.5)\n",
        "    self.fc2 = nn.Linear(128,10)\n",
        "\n",
        "  def forward(self,X):\n",
        "    X = torch.relu(self.conv1(X))\n",
        "    X = torch.relu(self.conv2(X))\n",
        "    X = self.pool(X)\n",
        "    X = X.view(-1,12*12*64)\n",
        "    X = self.drop1(X)\n",
        "    X = torch.relu(self.fc1(X))\n",
        "    X = self.drop2(X)\n",
        "    X = self.fc2(X)\n",
        "    return X\n",
        "\n",
        "#initializing model\n",
        "model = classifier().to(device)\n",
        "\n",
        "#hyperparameters\n",
        "num_epochs=20\n",
        "learn_rate=0.001\n",
        "num_iterations=len(train_loader)\n",
        "batch_size=100\n",
        "\n",
        "#defining the loss criteria to be used\n",
        "criterion = nn.CrossEntropyLoss()\n",
        "\n",
        "#defining the optimizer\n",
        "optimizer = optim.Adam(model.parameters(),lr=learn_rate)\n",
        "\n",
        "train_loss=[]\n",
        "#training our model\n",
        "for e in range(num_epochs):\n",
        "  tr_loss=0\n",
        "  model.train()\n",
        "\n",
        "  for i,(samples,labels) in enumerate(train_loader):\n",
        "    samples = samples.to(device)\n",
        "    labels = labels.to(device)\n",
        "    #model predictions\n",
        "    y_predicted = model(samples)\n",
        "    #cost\n",
        "    cost = criterion(y_predicted,labels)\n",
        "    tr_loss+=cost.item()\n",
        "    #calculate gradients\n",
        "    cost.backward()\n",
        "    #update parameters\n",
        "    optimizer.step()\n",
        "    #avoid accumulation of gradients\n",
        "    optimizer.zero_grad()\n",
        "  #printing loss per 2 epochs\n",
        "  if (e+1)%2 == 0:\n",
        "    print(\"epoch:\",e+1,\"/\",num_epochs,\" loss:{0:.4f}\".format(tr_loss))\n",
        "  train_loss.append(tr_loss) \n",
        "\n",
        "#plotting loss per epoch \n",
        "plt.plot(train_loss,color=\"b\")\n",
        "plt.xlabel(\"Epochs\")\n",
        "plt.ylabel(\"Train_loss\")\n",
        "plt.title(\"Loss per epoch\")\n",
        "plt.show()\n"
      ],
      "execution_count": 14,
      "outputs": [
        {
          "output_type": "stream",
          "text": [
            "epoch: 2 / 20  loss:57.3949\n",
            "epoch: 4 / 20  loss:36.7344\n",
            "epoch: 6 / 20  loss:28.4516\n",
            "epoch: 8 / 20  loss:23.2987\n",
            "epoch: 10 / 20  loss:18.7311\n",
            "epoch: 12 / 20  loss:17.6325\n",
            "epoch: 14 / 20  loss:13.2964\n",
            "epoch: 16 / 20  loss:12.9650\n",
            "epoch: 18 / 20  loss:12.2051\n",
            "epoch: 20 / 20  loss:9.5507\n"
          ],
          "name": "stdout"
        },
        {
          "output_type": "display_data",
          "data": {
            "image/png": "[encoded data removed]",
            "text/plain": [
              "<Figure size 432x288 with 1 Axes>"
            ]
          },
          "metadata": {
            "tags": [],
            "needs_background": "light"
          }
        }
      ]
    },
    {
      "cell_type": "code",
      "metadata": {
        "id": "_Awe_tLzKcnG",
        "colab_type": "code",
        "colab": {
          "base_uri": "https://localhost:8080/",
          "height": 202
        },
        "outputId": "208a3e8e-1c3e-42ee-c79f-4f820ca3fffe"
      },
      "source": [
        "#evaluating our trained model on test data\n",
        "with torch.no_grad():\n",
        "  \n",
        "  model.eval()\n",
        "  n_samples = 0\n",
        "  n_correct = 0\n",
        "  n_class_correct = [0 for i in range(10)]\n",
        "  n_class_samples = [0 for i in range(10)]\n",
        "\n",
        "  for (samples,labels) in test_loader:\n",
        "    samples = samples.to(device)\n",
        "    labels = labels.to(device)\n",
        "    y_pred = model(samples)\n",
        "    _,prediction = torch.max(y_pred,1)\n",
        "    n_samples+= labels.shape[0]\n",
        "    n_correct+= (prediction == labels).sum().item()\n",
        "\n",
        "    for i in range(batch_size):\n",
        "      label = labels[i].item()\n",
        "      predict = prediction[i].item()\n",
        "      if label == predict:\n",
        "        n_class_correct[label]+= 1\n",
        "      n_class_samples[label]+= 1\n",
        "  \n",
        "  #printing overall accuracy\n",
        "  accuracy = 100*n_correct/(float)(n_samples)\n",
        "  print(\"Overall accuracy of system: {0:.2f}\".format(accuracy),\"%\")  \n",
        "\n",
        "  #printing accuracy of each class\n",
        "  for i in range(10):\n",
        "    acc=100*n_class_correct[i]/n_class_samples[i]\n",
        "    print(\"Accuracy of digit \",i,\"={:.2f}\".format(acc),\"%\") \n",
        "\n",
        "\n",
        "  "
      ],
      "execution_count": 15,
      "outputs": [
        {
          "output_type": "stream",
          "text": [
            "Overall accuracy of system: 99.22 %\n",
            "Accuracy of digit  0 =99.80 %\n",
            "Accuracy of digit  1 =99.74 %\n",
            "Accuracy of digit  2 =98.93 %\n",
            "Accuracy of digit  3 =99.50 %\n",
            "Accuracy of digit  4 =99.59 %\n",
            "Accuracy of digit  5 =99.33 %\n",
            "Accuracy of digit  6 =98.96 %\n",
            "Accuracy of digit  7 =99.12 %\n",
            "Accuracy of digit  8 =99.08 %\n",
            "Accuracy of digit  9 =98.12 %\n"
          ],
          "name": "stdout"
        }
      ]
    },
    {
      "cell_type": "code",
      "metadata": {
        "id": "76Ky421qui6z",
        "colab_type": "code",
        "colab": {}
      },
      "source": [
        ""
      ],
      "execution_count": 0,
      "outputs": []
    }
  ]
}